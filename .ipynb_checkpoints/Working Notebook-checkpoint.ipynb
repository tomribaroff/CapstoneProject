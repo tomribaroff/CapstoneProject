{
 "cells": [
  {
   "cell_type": "markdown",
   "metadata": {},
   "source": [
    "# Predicting Stock Market Movement by building a Neural Network with Newspaper Headlines"
   ]
  },
  {
   "cell_type": "markdown",
   "metadata": {
    "ExecuteTime": {
     "end_time": "2020-05-27T11:18:53.737991Z",
     "start_time": "2020-05-27T11:18:53.730271Z"
    }
   },
   "source": [
    "TO DO LIST:\n",
    "    Iterate through Guardian and NYT and store it in NoSQL\n",
    "    Get FT API working\n",
    "    Looking into Wayback Machine \n",
    "    "
   ]
  },
  {
   "cell_type": "markdown",
   "metadata": {},
   "source": [
    "## Introduction"
   ]
  },
  {
   "cell_type": "markdown",
   "metadata": {},
   "source": [
    "Will be using CRoss-Industry Standard Process for Data Mining (CRISP-DM) as the outline for the project "
   ]
  },
  {
   "cell_type": "markdown",
   "metadata": {},
   "source": [
    "## Importing Libraries "
   ]
  },
  {
   "cell_type": "code",
   "execution_count": 1,
   "metadata": {
    "ExecuteTime": {
     "end_time": "2020-05-27T13:43:20.560421Z",
     "start_time": "2020-05-27T13:43:17.575340Z"
    }
   },
   "outputs": [],
   "source": [
    "import pandas as pd\n",
    "import tradingeconomics as te\n",
    "import json\n",
    "import yfinance as yf\n",
    "import numpy as np\n",
    "import seaborn as sns\n",
    "import matplotlib.pyplot as plt\n",
    "import dateutil\n",
    "from datetime import datetime\n",
    "import requests\n",
    "from pandas_datareader import data as dr\n",
    "import pandas_datareader"
   ]
  },
  {
   "cell_type": "markdown",
   "metadata": {},
   "source": [
    "## Business Understanding"
   ]
  },
  {
   "cell_type": "code",
   "execution_count": null,
   "metadata": {},
   "outputs": [],
   "source": []
  },
  {
   "cell_type": "markdown",
   "metadata": {},
   "source": [
    "## Collecting the needed Data"
   ]
  },
  {
   "cell_type": "markdown",
   "metadata": {},
   "source": [
    "### FTSE Data"
   ]
  },
  {
   "cell_type": "markdown",
   "metadata": {},
   "source": [
    "#### Pandas Data Reader"
   ]
  },
  {
   "cell_type": "markdown",
   "metadata": {},
   "source": [
    "To get us started, we can easily extract Open and Close prices for the FTSE every day in the range we want by using the helpful Pandas Data Reader tool, which reads data for us off of various website. We just have to specify which type of data we want, and in what range of dates."
   ]
  },
  {
   "cell_type": "code",
   "execution_count": 2,
   "metadata": {
    "ExecuteTime": {
     "end_time": "2020-05-27T13:43:20.920972Z",
     "start_time": "2020-05-27T13:43:20.562998Z"
    }
   },
   "outputs": [],
   "source": [
    "# dont run this again!!\n",
    "start_date = '2010-01-01'\n",
    "end_date = '2020-01-01'\n",
    "data = pandas_datareader.stooq.StooqDailyReader(symbols='^UKX', start=start_date, end=end_date).read()"
   ]
  },
  {
   "cell_type": "code",
   "execution_count": 3,
   "metadata": {
    "ExecuteTime": {
     "end_time": "2020-05-27T13:43:20.937101Z",
     "start_time": "2020-05-27T13:43:20.923426Z"
    }
   },
   "outputs": [
    {
     "name": "stdout",
     "output_type": "stream",
     "text": [
      "<class 'pandas.core.frame.DataFrame'>\n",
      "DatetimeIndex: 2526 entries, 2019-12-31 to 2010-01-04\n",
      "Data columns (total 5 columns):\n",
      "Open      2526 non-null float64\n",
      "High      2526 non-null float64\n",
      "Low       2526 non-null float64\n",
      "Close     2526 non-null float64\n",
      "Volume    2524 non-null float64\n",
      "dtypes: float64(5)\n",
      "memory usage: 118.4 KB\n"
     ]
    }
   ],
   "source": [
    "data.info()"
   ]
  },
  {
   "cell_type": "markdown",
   "metadata": {},
   "source": [
    "Personally, I would prefer to have the data in chronological order, starting from 2010, so I will reverse the index to reorder the dataframe"
   ]
  },
  {
   "cell_type": "code",
   "execution_count": 4,
   "metadata": {
    "ExecuteTime": {
     "end_time": "2020-05-27T13:43:20.962383Z",
     "start_time": "2020-05-27T13:43:20.947823Z"
    }
   },
   "outputs": [],
   "source": [
    "data = data.reindex(index=data.index[::-1])"
   ]
  },
  {
   "cell_type": "code",
   "execution_count": 5,
   "metadata": {
    "ExecuteTime": {
     "end_time": "2020-05-27T13:43:20.986278Z",
     "start_time": "2020-05-27T13:43:20.966399Z"
    }
   },
   "outputs": [
    {
     "name": "stdout",
     "output_type": "stream",
     "text": [
      "<class 'pandas.core.frame.DataFrame'>\n",
      "DatetimeIndex: 2526 entries, 2010-01-04 to 2019-12-31\n",
      "Data columns (total 5 columns):\n",
      "Open      2526 non-null float64\n",
      "High      2526 non-null float64\n",
      "Low       2526 non-null float64\n",
      "Close     2526 non-null float64\n",
      "Volume    2524 non-null float64\n",
      "dtypes: float64(5)\n",
      "memory usage: 118.4 KB\n"
     ]
    }
   ],
   "source": [
    "data.info()"
   ]
  },
  {
   "cell_type": "markdown",
   "metadata": {},
   "source": [
    "Great! Now it's in the right order, I can delete columns of data that I see fit. For now, I'll keep it all, but I am not expecting to use daily Highs/Lows or Volume in my analysis, so might delete those columns later."
   ]
  },
  {
   "cell_type": "code",
   "execution_count": 6,
   "metadata": {
    "ExecuteTime": {
     "end_time": "2020-05-27T13:43:21.027557Z",
     "start_time": "2020-05-27T13:43:20.989552Z"
    }
   },
   "outputs": [
    {
     "data": {
      "text/html": [
       "<div>\n",
       "<style scoped>\n",
       "    .dataframe tbody tr th:only-of-type {\n",
       "        vertical-align: middle;\n",
       "    }\n",
       "\n",
       "    .dataframe tbody tr th {\n",
       "        vertical-align: top;\n",
       "    }\n",
       "\n",
       "    .dataframe thead th {\n",
       "        text-align: right;\n",
       "    }\n",
       "</style>\n",
       "<table border=\"1\" class=\"dataframe\">\n",
       "  <thead>\n",
       "    <tr style=\"text-align: right;\">\n",
       "      <th></th>\n",
       "      <th>Open</th>\n",
       "      <th>High</th>\n",
       "      <th>Low</th>\n",
       "      <th>Close</th>\n",
       "      <th>Volume</th>\n",
       "    </tr>\n",
       "    <tr>\n",
       "      <th>Date</th>\n",
       "      <th></th>\n",
       "      <th></th>\n",
       "      <th></th>\n",
       "      <th></th>\n",
       "      <th></th>\n",
       "    </tr>\n",
       "  </thead>\n",
       "  <tbody>\n",
       "    <tr>\n",
       "      <td>2010-01-04</td>\n",
       "      <td>5412.88</td>\n",
       "      <td>5500.34</td>\n",
       "      <td>5410.82</td>\n",
       "      <td>5500.34</td>\n",
       "      <td>7.392485e+08</td>\n",
       "    </tr>\n",
       "    <tr>\n",
       "      <td>2010-01-05</td>\n",
       "      <td>5500.34</td>\n",
       "      <td>5536.38</td>\n",
       "      <td>5480.71</td>\n",
       "      <td>5522.50</td>\n",
       "      <td>1.073713e+09</td>\n",
       "    </tr>\n",
       "    <tr>\n",
       "      <td>2010-01-06</td>\n",
       "      <td>5522.50</td>\n",
       "      <td>5536.48</td>\n",
       "      <td>5497.65</td>\n",
       "      <td>5530.04</td>\n",
       "      <td>9.274415e+08</td>\n",
       "    </tr>\n",
       "    <tr>\n",
       "      <td>2010-01-07</td>\n",
       "      <td>5530.04</td>\n",
       "      <td>5551.66</td>\n",
       "      <td>5499.80</td>\n",
       "      <td>5526.72</td>\n",
       "      <td>1.109908e+09</td>\n",
       "    </tr>\n",
       "    <tr>\n",
       "      <td>2010-01-08</td>\n",
       "      <td>5526.72</td>\n",
       "      <td>5549.25</td>\n",
       "      <td>5494.79</td>\n",
       "      <td>5534.24</td>\n",
       "      <td>9.713993e+08</td>\n",
       "    </tr>\n",
       "  </tbody>\n",
       "</table>\n",
       "</div>"
      ],
      "text/plain": [
       "               Open     High      Low    Close        Volume\n",
       "Date                                                        \n",
       "2010-01-04  5412.88  5500.34  5410.82  5500.34  7.392485e+08\n",
       "2010-01-05  5500.34  5536.38  5480.71  5522.50  1.073713e+09\n",
       "2010-01-06  5522.50  5536.48  5497.65  5530.04  9.274415e+08\n",
       "2010-01-07  5530.04  5551.66  5499.80  5526.72  1.109908e+09\n",
       "2010-01-08  5526.72  5549.25  5494.79  5534.24  9.713993e+08"
      ]
     },
     "execution_count": 6,
     "metadata": {},
     "output_type": "execute_result"
    }
   ],
   "source": [
    "data.head()"
   ]
  },
  {
   "cell_type": "markdown",
   "metadata": {},
   "source": [
    "It is worth noting at this point that these are Adjusted prices. There are a few different ways of valuing a stock, and therefore the way we value the stocks tracked in this Index will determine the price given for the Index as a whole. Adjusted values are more accurate - they take into account \"dividends, stock splits and new stock offerings to determine a value\". "
   ]
  },
  {
   "cell_type": "markdown",
   "metadata": {},
   "source": [
    "#### CSV files from Online"
   ]
  },
  {
   "cell_type": "markdown",
   "metadata": {
    "ExecuteTime": {
     "end_time": "2020-05-26T10:34:46.813999Z",
     "start_time": "2020-05-26T10:34:46.805534Z"
    }
   },
   "source": [
    "Getting intraday data proved more difficult - I wanted the prices of the FTSE 5 minutes after opening, and at a few points throughout the day. To do this, I found a historical dataframe online that quoted the prices of the FTSE every 5 minutes. A large file, as you can imagine. Using it, all I have to do it parse through the document, extracting the prices that I want at the particular times, being careful to note that the times are a little tricky to get right, as this dataset it not only on Chicago time, but also doesn't do a great job of noting daylight savings times. First, let's have a closer look at this dataset"
   ]
  },
  {
   "cell_type": "code",
   "execution_count": 7,
   "metadata": {
    "ExecuteTime": {
     "end_time": "2020-05-27T13:43:22.047952Z",
     "start_time": "2020-05-27T13:43:21.030940Z"
    }
   },
   "outputs": [],
   "source": [
    "intraday_data = pd.read_csv('ftse_data/ftse100-5m.csv')"
   ]
  },
  {
   "cell_type": "code",
   "execution_count": 8,
   "metadata": {
    "ExecuteTime": {
     "end_time": "2020-05-27T13:43:22.067844Z",
     "start_time": "2020-05-27T13:43:22.051096Z"
    }
   },
   "outputs": [
    {
     "data": {
      "text/html": [
       "<div>\n",
       "<style scoped>\n",
       "    .dataframe tbody tr th:only-of-type {\n",
       "        vertical-align: middle;\n",
       "    }\n",
       "\n",
       "    .dataframe tbody tr th {\n",
       "        vertical-align: top;\n",
       "    }\n",
       "\n",
       "    .dataframe thead th {\n",
       "        text-align: right;\n",
       "    }\n",
       "</style>\n",
       "<table border=\"1\" class=\"dataframe\">\n",
       "  <thead>\n",
       "    <tr style=\"text-align: right;\">\n",
       "      <th></th>\n",
       "      <th>Date;Open;High;Low;Close;Adj Close;Volume</th>\n",
       "    </tr>\n",
       "  </thead>\n",
       "  <tbody>\n",
       "    <tr>\n",
       "      <td>0</td>\n",
       "      <td>10/12/1999;02:00:00;6722;6735;6722;6735;0</td>\n",
       "    </tr>\n",
       "    <tr>\n",
       "      <td>1</td>\n",
       "      <td>10/12/1999;02:05:00;6734;6751;6734;6747;0</td>\n",
       "    </tr>\n",
       "    <tr>\n",
       "      <td>2</td>\n",
       "      <td>10/12/1999;02:10:00;6745;6747;6742;6742;0</td>\n",
       "    </tr>\n",
       "    <tr>\n",
       "      <td>3</td>\n",
       "      <td>10/12/1999;02:15:00;6750;6760;6750;6760;0</td>\n",
       "    </tr>\n",
       "    <tr>\n",
       "      <td>4</td>\n",
       "      <td>10/12/1999;02:20:00;6764;6764;6755;6755;0</td>\n",
       "    </tr>\n",
       "  </tbody>\n",
       "</table>\n",
       "</div>"
      ],
      "text/plain": [
       "   Date;Open;High;Low;Close;Adj Close;Volume\n",
       "0  10/12/1999;02:00:00;6722;6735;6722;6735;0\n",
       "1  10/12/1999;02:05:00;6734;6751;6734;6747;0\n",
       "2  10/12/1999;02:10:00;6745;6747;6742;6742;0\n",
       "3  10/12/1999;02:15:00;6750;6760;6750;6760;0\n",
       "4  10/12/1999;02:20:00;6764;6764;6755;6755;0"
      ]
     },
     "execution_count": 8,
     "metadata": {},
     "output_type": "execute_result"
    }
   ],
   "source": [
    "intraday_data.head()"
   ]
  },
  {
   "cell_type": "code",
   "execution_count": 9,
   "metadata": {
    "ExecuteTime": {
     "end_time": "2020-05-27T13:43:26.064433Z",
     "start_time": "2020-05-27T13:43:22.071152Z"
    }
   },
   "outputs": [
    {
     "data": {
      "text/html": [
       "<div>\n",
       "<style scoped>\n",
       "    .dataframe tbody tr th:only-of-type {\n",
       "        vertical-align: middle;\n",
       "    }\n",
       "\n",
       "    .dataframe tbody tr th {\n",
       "        vertical-align: top;\n",
       "    }\n",
       "\n",
       "    .dataframe thead th {\n",
       "        text-align: right;\n",
       "    }\n",
       "</style>\n",
       "<table border=\"1\" class=\"dataframe\">\n",
       "  <thead>\n",
       "    <tr style=\"text-align: right;\">\n",
       "      <th></th>\n",
       "      <th>Date</th>\n",
       "      <th>Open</th>\n",
       "      <th>High</th>\n",
       "      <th>Low</th>\n",
       "      <th>Close</th>\n",
       "      <th>Adj Close</th>\n",
       "      <th>Volume</th>\n",
       "    </tr>\n",
       "  </thead>\n",
       "  <tbody>\n",
       "    <tr>\n",
       "      <td>0</td>\n",
       "      <td>10/12/1999</td>\n",
       "      <td>02:00:00</td>\n",
       "      <td>6722</td>\n",
       "      <td>6735</td>\n",
       "      <td>6722</td>\n",
       "      <td>6735</td>\n",
       "      <td>0</td>\n",
       "    </tr>\n",
       "    <tr>\n",
       "      <td>1</td>\n",
       "      <td>10/12/1999</td>\n",
       "      <td>02:05:00</td>\n",
       "      <td>6734</td>\n",
       "      <td>6751</td>\n",
       "      <td>6734</td>\n",
       "      <td>6747</td>\n",
       "      <td>0</td>\n",
       "    </tr>\n",
       "    <tr>\n",
       "      <td>2</td>\n",
       "      <td>10/12/1999</td>\n",
       "      <td>02:10:00</td>\n",
       "      <td>6745</td>\n",
       "      <td>6747</td>\n",
       "      <td>6742</td>\n",
       "      <td>6742</td>\n",
       "      <td>0</td>\n",
       "    </tr>\n",
       "    <tr>\n",
       "      <td>3</td>\n",
       "      <td>10/12/1999</td>\n",
       "      <td>02:15:00</td>\n",
       "      <td>6750</td>\n",
       "      <td>6760</td>\n",
       "      <td>6750</td>\n",
       "      <td>6760</td>\n",
       "      <td>0</td>\n",
       "    </tr>\n",
       "    <tr>\n",
       "      <td>4</td>\n",
       "      <td>10/12/1999</td>\n",
       "      <td>02:20:00</td>\n",
       "      <td>6764</td>\n",
       "      <td>6764</td>\n",
       "      <td>6755</td>\n",
       "      <td>6755</td>\n",
       "      <td>0</td>\n",
       "    </tr>\n",
       "  </tbody>\n",
       "</table>\n",
       "</div>"
      ],
      "text/plain": [
       "         Date      Open  High   Low Close Adj Close Volume\n",
       "0  10/12/1999  02:00:00  6722  6735  6722      6735      0\n",
       "1  10/12/1999  02:05:00  6734  6751  6734      6747      0\n",
       "2  10/12/1999  02:10:00  6745  6747  6742      6742      0\n",
       "3  10/12/1999  02:15:00  6750  6760  6750      6760      0\n",
       "4  10/12/1999  02:20:00  6764  6764  6755      6755      0"
      ]
     },
     "execution_count": 9,
     "metadata": {},
     "output_type": "execute_result"
    }
   ],
   "source": [
    "df1 = intraday_data['Date;Open;High;Low;Close;Adj Close;Volume'].str.split(\";\",expand=True,)\n",
    "df1.columns=['Date','Open','High','Low','Close','Adj Close','Volume']\n",
    "df1.head()"
   ]
  },
  {
   "cell_type": "code",
   "execution_count": 10,
   "metadata": {
    "ExecuteTime": {
     "end_time": "2020-05-27T13:43:26.513446Z",
     "start_time": "2020-05-27T13:43:26.067805Z"
    }
   },
   "outputs": [
    {
     "name": "stdout",
     "output_type": "stream",
     "text": [
      "<class 'pandas.core.frame.DataFrame'>\n",
      "RangeIndex: 854331 entries, 0 to 854330\n",
      "Data columns (total 7 columns):\n",
      "Date         854331 non-null object\n",
      "Open         854331 non-null object\n",
      "High         854331 non-null object\n",
      "Low          854331 non-null object\n",
      "Close        854331 non-null object\n",
      "Adj Close    854331 non-null object\n",
      "Volume       854331 non-null object\n",
      "dtypes: object(7)\n",
      "memory usage: 45.6+ MB\n"
     ]
    }
   ],
   "source": [
    "df1.info()"
   ]
  },
  {
   "cell_type": "code",
   "execution_count": 11,
   "metadata": {
    "ExecuteTime": {
     "end_time": "2020-05-27T13:43:26.545324Z",
     "start_time": "2020-05-27T13:43:26.516147Z"
    }
   },
   "outputs": [
    {
     "data": {
      "text/html": [
       "<div>\n",
       "<style scoped>\n",
       "    .dataframe tbody tr th:only-of-type {\n",
       "        vertical-align: middle;\n",
       "    }\n",
       "\n",
       "    .dataframe tbody tr th {\n",
       "        vertical-align: top;\n",
       "    }\n",
       "\n",
       "    .dataframe thead th {\n",
       "        text-align: right;\n",
       "    }\n",
       "</style>\n",
       "<table border=\"1\" class=\"dataframe\">\n",
       "  <thead>\n",
       "    <tr style=\"text-align: right;\">\n",
       "      <th></th>\n",
       "      <th>Date</th>\n",
       "      <th>Open</th>\n",
       "      <th>High</th>\n",
       "      <th>Low</th>\n",
       "      <th>Close</th>\n",
       "      <th>Adj Close</th>\n",
       "      <th>Volume</th>\n",
       "    </tr>\n",
       "  </thead>\n",
       "  <tbody>\n",
       "    <tr>\n",
       "      <td>327380</td>\n",
       "      <td>31/12/2009</td>\n",
       "      <td>05:55:00</td>\n",
       "      <td>5365</td>\n",
       "      <td>5368</td>\n",
       "      <td>5364.5</td>\n",
       "      <td>5367</td>\n",
       "      <td>265</td>\n",
       "    </tr>\n",
       "    <tr>\n",
       "      <td>327381</td>\n",
       "      <td>04/01/2010</td>\n",
       "      <td>02:00:00</td>\n",
       "      <td>5369</td>\n",
       "      <td>5392</td>\n",
       "      <td>5365</td>\n",
       "      <td>5390</td>\n",
       "      <td>4177</td>\n",
       "    </tr>\n",
       "    <tr>\n",
       "      <td>327382</td>\n",
       "      <td>04/01/2010</td>\n",
       "      <td>02:05:00</td>\n",
       "      <td>5390</td>\n",
       "      <td>5398.5</td>\n",
       "      <td>5389.5</td>\n",
       "      <td>5398.5</td>\n",
       "      <td>974</td>\n",
       "    </tr>\n",
       "    <tr>\n",
       "      <td>327383</td>\n",
       "      <td>04/01/2010</td>\n",
       "      <td>02:10:00</td>\n",
       "      <td>5397.5</td>\n",
       "      <td>5409.5</td>\n",
       "      <td>5396.5</td>\n",
       "      <td>5408.5</td>\n",
       "      <td>1699</td>\n",
       "    </tr>\n",
       "    <tr>\n",
       "      <td>327384</td>\n",
       "      <td>04/01/2010</td>\n",
       "      <td>02:15:00</td>\n",
       "      <td>5409</td>\n",
       "      <td>5412</td>\n",
       "      <td>5398.5</td>\n",
       "      <td>5399.5</td>\n",
       "      <td>1478</td>\n",
       "    </tr>\n",
       "  </tbody>\n",
       "</table>\n",
       "</div>"
      ],
      "text/plain": [
       "              Date      Open    High     Low   Close Adj Close Volume\n",
       "327380  31/12/2009  05:55:00    5365    5368  5364.5      5367    265\n",
       "327381  04/01/2010  02:00:00    5369    5392    5365      5390   4177\n",
       "327382  04/01/2010  02:05:00    5390  5398.5  5389.5    5398.5    974\n",
       "327383  04/01/2010  02:10:00  5397.5  5409.5  5396.5    5408.5   1699\n",
       "327384  04/01/2010  02:15:00    5409    5412  5398.5    5399.5   1478"
      ]
     },
     "execution_count": 11,
     "metadata": {},
     "output_type": "execute_result"
    }
   ],
   "source": [
    "df1.iloc[327380:327385]"
   ]
  },
  {
   "cell_type": "markdown",
   "metadata": {},
   "source": [
    "So, the data we are looking for only starts on row 327380"
   ]
  },
  {
   "cell_type": "code",
   "execution_count": 12,
   "metadata": {
    "ExecuteTime": {
     "end_time": "2020-05-27T13:43:29.070737Z",
     "start_time": "2020-05-27T13:43:26.549789Z"
    }
   },
   "outputs": [
    {
     "data": {
      "text/html": [
       "<div>\n",
       "<style scoped>\n",
       "    .dataframe tbody tr th:only-of-type {\n",
       "        vertical-align: middle;\n",
       "    }\n",
       "\n",
       "    .dataframe tbody tr th {\n",
       "        vertical-align: top;\n",
       "    }\n",
       "\n",
       "    .dataframe thead th {\n",
       "        text-align: right;\n",
       "    }\n",
       "</style>\n",
       "<table border=\"1\" class=\"dataframe\">\n",
       "  <thead>\n",
       "    <tr style=\"text-align: right;\">\n",
       "      <th></th>\n",
       "      <th>Day</th>\n",
       "      <th>Month</th>\n",
       "      <th>Year</th>\n",
       "    </tr>\n",
       "  </thead>\n",
       "  <tbody>\n",
       "    <tr>\n",
       "      <td>0</td>\n",
       "      <td>10</td>\n",
       "      <td>12</td>\n",
       "      <td>1999</td>\n",
       "    </tr>\n",
       "    <tr>\n",
       "      <td>1</td>\n",
       "      <td>10</td>\n",
       "      <td>12</td>\n",
       "      <td>1999</td>\n",
       "    </tr>\n",
       "    <tr>\n",
       "      <td>2</td>\n",
       "      <td>10</td>\n",
       "      <td>12</td>\n",
       "      <td>1999</td>\n",
       "    </tr>\n",
       "    <tr>\n",
       "      <td>3</td>\n",
       "      <td>10</td>\n",
       "      <td>12</td>\n",
       "      <td>1999</td>\n",
       "    </tr>\n",
       "    <tr>\n",
       "      <td>4</td>\n",
       "      <td>10</td>\n",
       "      <td>12</td>\n",
       "      <td>1999</td>\n",
       "    </tr>\n",
       "  </tbody>\n",
       "</table>\n",
       "</div>"
      ],
      "text/plain": [
       "  Day Month  Year\n",
       "0  10    12  1999\n",
       "1  10    12  1999\n",
       "2  10    12  1999\n",
       "3  10    12  1999\n",
       "4  10    12  1999"
      ]
     },
     "execution_count": 12,
     "metadata": {},
     "output_type": "execute_result"
    }
   ],
   "source": [
    "df2 = df1.Date.str.split(\"/\",expand=True,)\n",
    "df2.columns=['Day','Month','Year']\n",
    "df2.head()"
   ]
  },
  {
   "cell_type": "code",
   "execution_count": 13,
   "metadata": {
    "ExecuteTime": {
     "end_time": "2020-05-27T13:43:29.469863Z",
     "start_time": "2020-05-27T13:43:29.073244Z"
    }
   },
   "outputs": [],
   "source": [
    "df = pd.concat([df2,df1],axis=1)"
   ]
  },
  {
   "cell_type": "code",
   "execution_count": 14,
   "metadata": {
    "ExecuteTime": {
     "end_time": "2020-05-27T13:43:29.491999Z",
     "start_time": "2020-05-27T13:43:29.472310Z"
    }
   },
   "outputs": [
    {
     "data": {
      "text/html": [
       "<div>\n",
       "<style scoped>\n",
       "    .dataframe tbody tr th:only-of-type {\n",
       "        vertical-align: middle;\n",
       "    }\n",
       "\n",
       "    .dataframe tbody tr th {\n",
       "        vertical-align: top;\n",
       "    }\n",
       "\n",
       "    .dataframe thead th {\n",
       "        text-align: right;\n",
       "    }\n",
       "</style>\n",
       "<table border=\"1\" class=\"dataframe\">\n",
       "  <thead>\n",
       "    <tr style=\"text-align: right;\">\n",
       "      <th></th>\n",
       "      <th>Day</th>\n",
       "      <th>Month</th>\n",
       "      <th>Year</th>\n",
       "      <th>Date</th>\n",
       "      <th>Open</th>\n",
       "      <th>High</th>\n",
       "      <th>Low</th>\n",
       "      <th>Close</th>\n",
       "      <th>Adj Close</th>\n",
       "      <th>Volume</th>\n",
       "    </tr>\n",
       "  </thead>\n",
       "  <tbody>\n",
       "    <tr>\n",
       "      <td>0</td>\n",
       "      <td>10</td>\n",
       "      <td>12</td>\n",
       "      <td>1999</td>\n",
       "      <td>10/12/1999</td>\n",
       "      <td>02:00:00</td>\n",
       "      <td>6722</td>\n",
       "      <td>6735</td>\n",
       "      <td>6722</td>\n",
       "      <td>6735</td>\n",
       "      <td>0</td>\n",
       "    </tr>\n",
       "    <tr>\n",
       "      <td>1</td>\n",
       "      <td>10</td>\n",
       "      <td>12</td>\n",
       "      <td>1999</td>\n",
       "      <td>10/12/1999</td>\n",
       "      <td>02:05:00</td>\n",
       "      <td>6734</td>\n",
       "      <td>6751</td>\n",
       "      <td>6734</td>\n",
       "      <td>6747</td>\n",
       "      <td>0</td>\n",
       "    </tr>\n",
       "    <tr>\n",
       "      <td>2</td>\n",
       "      <td>10</td>\n",
       "      <td>12</td>\n",
       "      <td>1999</td>\n",
       "      <td>10/12/1999</td>\n",
       "      <td>02:10:00</td>\n",
       "      <td>6745</td>\n",
       "      <td>6747</td>\n",
       "      <td>6742</td>\n",
       "      <td>6742</td>\n",
       "      <td>0</td>\n",
       "    </tr>\n",
       "    <tr>\n",
       "      <td>3</td>\n",
       "      <td>10</td>\n",
       "      <td>12</td>\n",
       "      <td>1999</td>\n",
       "      <td>10/12/1999</td>\n",
       "      <td>02:15:00</td>\n",
       "      <td>6750</td>\n",
       "      <td>6760</td>\n",
       "      <td>6750</td>\n",
       "      <td>6760</td>\n",
       "      <td>0</td>\n",
       "    </tr>\n",
       "    <tr>\n",
       "      <td>4</td>\n",
       "      <td>10</td>\n",
       "      <td>12</td>\n",
       "      <td>1999</td>\n",
       "      <td>10/12/1999</td>\n",
       "      <td>02:20:00</td>\n",
       "      <td>6764</td>\n",
       "      <td>6764</td>\n",
       "      <td>6755</td>\n",
       "      <td>6755</td>\n",
       "      <td>0</td>\n",
       "    </tr>\n",
       "  </tbody>\n",
       "</table>\n",
       "</div>"
      ],
      "text/plain": [
       "  Day Month  Year        Date      Open  High   Low Close Adj Close Volume\n",
       "0  10    12  1999  10/12/1999  02:00:00  6722  6735  6722      6735      0\n",
       "1  10    12  1999  10/12/1999  02:05:00  6734  6751  6734      6747      0\n",
       "2  10    12  1999  10/12/1999  02:10:00  6745  6747  6742      6742      0\n",
       "3  10    12  1999  10/12/1999  02:15:00  6750  6760  6750      6760      0\n",
       "4  10    12  1999  10/12/1999  02:20:00  6764  6764  6755      6755      0"
      ]
     },
     "execution_count": 14,
     "metadata": {},
     "output_type": "execute_result"
    }
   ],
   "source": [
    "df.head()"
   ]
  },
  {
   "cell_type": "markdown",
   "metadata": {},
   "source": [
    "So, now we have our dataframe in a format that is easier to use"
   ]
  },
  {
   "cell_type": "markdown",
   "metadata": {
    "ExecuteTime": {
     "end_time": "2020-05-26T12:02:03.480557Z",
     "start_time": "2020-05-26T12:02:03.474562Z"
    }
   },
   "source": [
    "Unfortunately, there may be a problem which needs looking into..."
   ]
  },
  {
   "cell_type": "code",
   "execution_count": 15,
   "metadata": {
    "ExecuteTime": {
     "end_time": "2020-05-27T13:43:30.641195Z",
     "start_time": "2020-05-27T13:43:29.494870Z"
    }
   },
   "outputs": [],
   "source": [
    "now = df.loc[(df['Year'] == '2010')  & (df['Month'] == '01')] \n",
    "now.head()\n",
    "now = now.reset_index()"
   ]
  },
  {
   "cell_type": "code",
   "execution_count": 16,
   "metadata": {
    "ExecuteTime": {
     "end_time": "2020-05-27T13:43:30.664979Z",
     "start_time": "2020-05-27T13:43:30.643310Z"
    },
    "scrolled": true
   },
   "outputs": [],
   "source": [
    "now['Adj Close'] = now['Adj Close'].astype(float)\n",
    "now['Close'] = now['Close'].astype(float)\n",
    "now['Day'] = now['Day'].astype(float)\n",
    "now['Month'] = now['Month'].astype(float)\n",
    "now['Year'] = now['Year'].astype(float)"
   ]
  },
  {
   "cell_type": "code",
   "execution_count": 17,
   "metadata": {
    "ExecuteTime": {
     "end_time": "2020-05-27T13:43:30.720759Z",
     "start_time": "2020-05-27T13:43:30.667499Z"
    }
   },
   "outputs": [],
   "source": [
    "close_adj_prices = []\n",
    "close_prices = []\n",
    "\n",
    "for x in range(0,len(now)):\n",
    "    if(now['Open'][x] == '10:55:00'):\n",
    "        close_adj_prices.append(now['Adj Close'][x])\n",
    "        close_prices.append(now['Close'][x])"
   ]
  },
  {
   "cell_type": "code",
   "execution_count": 18,
   "metadata": {
    "ExecuteTime": {
     "end_time": "2020-05-27T13:43:30.730631Z",
     "start_time": "2020-05-27T13:43:30.722887Z"
    }
   },
   "outputs": [
    {
     "name": "stdout",
     "output_type": "stream",
     "text": [
      "[5500.34 5522.5  5530.04 5526.72 5534.24 5538.07 5498.71 5473.48 5498.2\n",
      " 5455.37 5494.39 5513.14 5420.8  5335.1  5302.99 5260.31 5276.85 5217.47\n",
      " 5145.74 5188.52]\n"
     ]
    }
   ],
   "source": [
    "print(data[0:20].Close.values)"
   ]
  },
  {
   "cell_type": "code",
   "execution_count": 19,
   "metadata": {
    "ExecuteTime": {
     "end_time": "2020-05-27T13:43:30.930397Z",
     "start_time": "2020-05-27T13:43:30.733305Z"
    }
   },
   "outputs": [
    {
     "data": {
      "text/plain": [
       "[<matplotlib.lines.Line2D at 0x1a2463a790>]"
      ]
     },
     "execution_count": 19,
     "metadata": {},
     "output_type": "execute_result"
    },
    {
     "data": {
      "image/png": "[encoded data removed]",
      "text/plain": [
       "<Figure size 432x288 with 1 Axes>"
      ]
     },
     "metadata": {
      "needs_background": "light"
     },
     "output_type": "display_data"
    }
   ],
   "source": [
    "plt.plot(close_prices)\n",
    "plt.plot(data[0:20].Close.values)\n",
    "plt.plot(close_adj_prices)"
   ]
  },
  {
   "cell_type": "markdown",
   "metadata": {},
   "source": [
    "We have a problem here - the two menthods of valuation of the FTSE are clearly differing...need to sort."
   ]
  },
  {
   "cell_type": "markdown",
   "metadata": {},
   "source": [
    "\"Problem Solved\" - The difference here is because the Pandas Data Reader results are the values of the FTSE Index, whereas the values from our online database are the price of the futures on the FTSE. There is a slight discrepancy of price. As long as we keep everything on the same scale, the problem should be solved. So we'll derive all our prices from the database, unless we find an intraday FTSE valuation out of Pandas Data Reader. "
   ]
  },
  {
   "cell_type": "markdown",
   "metadata": {},
   "source": [
    "#### Visualisations and filtering that might be useful later"
   ]
  },
  {
   "cell_type": "code",
   "execution_count": 20,
   "metadata": {
    "ExecuteTime": {
     "end_time": "2020-05-27T13:43:30.936917Z",
     "start_time": "2020-05-27T13:43:30.932845Z"
    }
   },
   "outputs": [],
   "source": [
    "# values = pd.DataFrame(columns=['time','num_of_values'])\n",
    "# count=1\n",
    "# for y in range(2000,2020):\n",
    "#     for x in range(1,13):\n",
    "#         z = len(df.loc[(df['Year'] == y)  & (df['Month'] == x)])\n",
    "#         values.loc[count]=[int(count),int(z)]\n",
    "#         count += 1\n",
    "\n",
    "# values.time = values.time.astype('int32')\n",
    "# values.num_of_values = values.num_of_values.astype('int32')\n",
    "\n",
    "# sns.set()\n",
    "# ax = sns.lineplot(y=\"num_of_values\", x=\"time\", data=values)"
   ]
  },
  {
   "cell_type": "markdown",
   "metadata": {},
   "source": [
    "So a basic plot of our data shows that for more recent years, we have many more data points."
   ]
  },
  {
   "cell_type": "code",
   "execution_count": 21,
   "metadata": {
    "ExecuteTime": {
     "end_time": "2020-05-27T13:43:30.944010Z",
     "start_time": "2020-05-27T13:43:30.940115Z"
    }
   },
   "outputs": [],
   "source": [
    "# values2 = pd.DataFrame(columns=['time','num_of_days_counted'])\n",
    "# count=1\n",
    "# for y in range(2000,2020):\n",
    "#     for x in range(1,13):\n",
    "#         z = df.loc[(df['Year'] == y) & (df['Month'] == x)]\n",
    "#         days_counted = len(z.Day.unique())\n",
    "#         values2.loc[count]=[int(count),int(days_counted)]\n",
    "#         count += 1\n",
    "\n",
    "# values2.time = values2.time.astype('int32')\n",
    "# values2.num_of_days_counted = values2.num_of_days_counted.astype('int32')\n",
    "\n",
    "# sns.set()\n",
    "# ax = sns.lineplot(y=\"num_of_days_counted\", x=\"time\", data=values2)"
   ]
  },
  {
   "cell_type": "markdown",
   "metadata": {},
   "source": [
    "The maximum number of days the market can be open in a month is 23, so we have plenty data on price movements outside of the traditional open hours too! We could use this data to explore price changes on after-hours trading, but for now, let's just extract the data we originally wanted. \n",
    "\n",
    "Plan for now:\n",
    "\n",
    "Get list of working days from 2010 to 2019\n",
    "\n",
    "Data is on Chicago time, shift all data 6 hours head to GMT\n",
    "\n",
    "Shift data to GMT+1 according to daylight savings times \n",
    "\n",
    "Filter through all data to get times and days data you want and save in a new df "
   ]
  },
  {
   "cell_type": "code",
   "execution_count": 22,
   "metadata": {
    "ExecuteTime": {
     "end_time": "2020-05-27T13:43:30.950676Z",
     "start_time": "2020-05-27T13:43:30.946708Z"
    }
   },
   "outputs": [],
   "source": [
    "# from dateutil.rrule import *\n",
    "# def daterange(start_date, end_date):\n",
    "#     return list(rrule(DAILY, dtstart=start_date, until=end_date, byweekday=(MO,TU,WE,TH,FR)))"
   ]
  },
  {
   "cell_type": "code",
   "execution_count": 23,
   "metadata": {
    "ExecuteTime": {
     "end_time": "2020-05-27T13:43:30.966869Z",
     "start_time": "2020-05-27T13:43:30.959681Z"
    }
   },
   "outputs": [],
   "source": [
    "# # some are kindly provided by gov.uk, but there are some missing which I will add in below \n",
    "# from govuk_bank_holidays.bank_holidays import BankHolidays\n",
    "# bank_holidays = BankHolidays()\n",
    "# count = 0\n",
    "# for bank_holiday in bank_holidays.get_holidays():\n",
    "#     if (count<30):\n",
    "#         print(bank_holiday['date'])\n",
    "#         count += 1"
   ]
  },
  {
   "cell_type": "code",
   "execution_count": 24,
   "metadata": {
    "ExecuteTime": {
     "end_time": "2020-05-27T13:43:30.978359Z",
     "start_time": "2020-05-27T13:43:30.971987Z"
    }
   },
   "outputs": [],
   "source": [
    "# bank_holidays = ['2010-01-01','2010-04-02','2010-04-05','2010-05-03','2010-05-31','2010-08-30','2010-12-27','2010-12-28', \\\n",
    "#                  '2011-01-03','2011-04-22','2011-04-25','2011-05-02','2011-05-30','2011-08-29','2011-12-26','2011-12-27', \\\n",
    "#                  '2012-01-02','2012-04-06','2012-04-09','2012-05-07','2012-06-04','2012-06-05','2012-08-27','2012-12-25','2012-12-26', \\\n",
    "#                  '2013-01-01','2013-03-29','2013-04-01','2013-05-06','2013-05-27','2013-08-26','2013-12-25','2013-12-26', \\\n",
    "#                  '2014-01-01','2014-04-18','2014-04-21','2014-05-06','2014-05-26','2014-08-25','2014-12-25','2014-12-26', \\\n",
    "#                  '2015-01-01','2015-04-03','2015-04-06','2015-05-04','2015-05-25','2015-08-31','2015-12-25','2015-12-28', \\\n",
    "#                  '2016-01-01','2016-03-25','2016-03-28','2016-05-02','2016-05-30','2015-08-31','2016-12-26','2016-12-27', \\\n",
    "#                  '2017-01-02','2017-04-14','2017-04-17','2017-05-01','2017-05-29','2015-08-31','2017-12-25','2017-12-26', \\\n",
    "#                  '2018-01-01','2018-03-30','2018-04-02','2018-05-07','2018-05-28','2015-08-31','2018-12-25','2018-12-26', \\\n",
    "#                  '2019-01-01','2019-04-19','2019-04-22','2019-05-06','2019-05-27','2015-08-31','2019-12-25','2019-12-26']"
   ]
  },
  {
   "cell_type": "code",
   "execution_count": 25,
   "metadata": {
    "ExecuteTime": {
     "end_time": "2020-05-27T13:43:30.985991Z",
     "start_time": "2020-05-27T13:43:30.981111Z"
    }
   },
   "outputs": [],
   "source": [
    "# start_date = datetime(2010, 1, 1)\n",
    "# end_date = datetime(2019, 12, 31)\n",
    "# working_days = daterange(start_date,end_date)"
   ]
  },
  {
   "cell_type": "code",
   "execution_count": 26,
   "metadata": {
    "ExecuteTime": {
     "end_time": "2020-05-27T13:43:31.000351Z",
     "start_time": "2020-05-27T13:43:30.991872Z"
    }
   },
   "outputs": [],
   "source": [
    "# open_days = []\n",
    "# for x in range(len(working_days)):\n",
    "#     year = working_days[x].strftime(\"%Y\")\n",
    "#     month = working_days[x].strftime(\"%m\")\n",
    "#     day = working_days[x].strftime(\"%d\")\n",
    "#     date = year + \"-\" + month + \"-\" + day\n",
    "#     if date not in bank_holidays:\n",
    "#         open_days.append(date)"
   ]
  },
  {
   "cell_type": "markdown",
   "metadata": {},
   "source": [
    "So, open days is a list that the London Stock exchange is open for trading! Now to create a dataframe with these dates as the rows, and the FTSE values at various times!"
   ]
  },
  {
   "cell_type": "code",
   "execution_count": 27,
   "metadata": {
    "ExecuteTime": {
     "end_time": "2020-05-27T13:43:31.011741Z",
     "start_time": "2020-05-27T13:43:31.006875Z"
    },
    "scrolled": true
   },
   "outputs": [],
   "source": [
    "# FTSE_data = pd.DataFrame(open_days,columns=[\"Date\"])\n",
    "# FTSE_data.head()"
   ]
  },
  {
   "cell_type": "code",
   "execution_count": 28,
   "metadata": {
    "ExecuteTime": {
     "end_time": "2020-05-27T13:43:31.019900Z",
     "start_time": "2020-05-27T13:43:31.015156Z"
    }
   },
   "outputs": [],
   "source": [
    "# df2 = FTSE_data.Date.str.split(\"-\",expand=True,)\n",
    "# df2.columns=['Year','Month','Day']\n",
    "# df2.head()"
   ]
  },
  {
   "cell_type": "code",
   "execution_count": 29,
   "metadata": {
    "ExecuteTime": {
     "end_time": "2020-05-27T13:43:31.029006Z",
     "start_time": "2020-05-27T13:43:31.025193Z"
    }
   },
   "outputs": [],
   "source": [
    "# FTSE_data = pd.concat([FTSE_data,df2], axis=1)\n",
    "# FTSE_data.head()"
   ]
  },
  {
   "cell_type": "code",
   "execution_count": 30,
   "metadata": {
    "ExecuteTime": {
     "end_time": "2020-05-27T13:43:31.043034Z",
     "start_time": "2020-05-27T13:43:31.033442Z"
    }
   },
   "outputs": [],
   "source": [
    "# FTSE_data[\"5_minutes_after_opening\"] = np.nan\n",
    "# FTSE_data[\"1_hour_after_opening\"] = np.nan\n",
    "# FTSE_data[\"2_hours_after_opening\"] = np.nan\n",
    "# FTSE_data[\"4_hours_after_opening\"] = np.nan\n",
    "# FTSE_data[\"Closing\"] = np.nan\n",
    "# FTSE_data['Year'] = FTSE_data['Year'].astype(int)\n",
    "# FTSE_data['Month'] = FTSE_data['Month'].astype(int)\n",
    "# FTSE_data['Day'] = FTSE_data['Day'].astype(int)\n",
    "# FTSE_data.head()"
   ]
  },
  {
   "cell_type": "code",
   "execution_count": 31,
   "metadata": {
    "ExecuteTime": {
     "end_time": "2020-05-27T13:43:31.051143Z",
     "start_time": "2020-05-27T13:43:31.047204Z"
    }
   },
   "outputs": [],
   "source": [
    "# FTSE_data.tail()"
   ]
  },
  {
   "cell_type": "code",
   "execution_count": 32,
   "metadata": {
    "ExecuteTime": {
     "end_time": "2020-05-27T13:43:31.060607Z",
     "start_time": "2020-05-27T13:43:31.055181Z"
    }
   },
   "outputs": [],
   "source": [
    "# df.head()"
   ]
  },
  {
   "cell_type": "code",
   "execution_count": 33,
   "metadata": {
    "ExecuteTime": {
     "end_time": "2020-05-27T13:43:31.074479Z",
     "start_time": "2020-05-27T13:43:31.063774Z"
    },
    "scrolled": true
   },
   "outputs": [],
   "source": [
    "# for x in range(0,len(FTSE_data)):\n",
    "    \n",
    "#     year = FTSE_data['Year'][x]\n",
    "#     month = FTSE_data['Month'][x]\n",
    "#     day = FTSE_data['Day'][x]\n",
    "    \n",
    "#     if(year == 2010):\n",
    "#         if((month == 3)|(month == 11)):\n",
    "#             if(month == 3):\n",
    "#                 if((day>14) & (day<28)):\n",
    "#                     price = df.loc[(df['Year'] == year) & (df['Month'] == month) & (df['Day'] == day) & (df['Open'] == '03:00:00')]['Close']\n",
    "#             if(month == 11):\n",
    "#                 if(day>0 & day<8):\n",
    "#                     price = df.loc[(df['Year'] == year) & (df['Month'] == month) & (df['Day'] == day) & (df['Open'] == '01:00:00')]['Close']\n",
    "#                     if((day == 3) | (day == 5)):\n",
    "#                         price = df.loc[(df['Year'] == year) & (df['Month'] == month) & (df['Day'] == day) & (df['Open'] == '01:05:00')]['Close']\n",
    "                    \n",
    "#         else:\n",
    "#             price = df.loc[(df['Year'] == year) & (df['Month'] == month) & (df['Day'] == day) & (df['Open'] == '02:00:00')]['Close']\n",
    "    \n",
    "#     if(year == 2011):\n",
    "#         if((month == 3)|(month == 11)|(month== 10)):\n",
    "#             if(month == 3):\n",
    "#                 if((day>13) & (day<27)):\n",
    "#                     price = df.loc[(df['Year'] == year) & (df['Month'] == month) & (df['Day'] == day) & (df['Open'] == '03:00:00')]['Close']\n",
    "#             if(month == 10):\n",
    "#                 if(day > 30):\n",
    "#                     price = df.loc[(df['Year'] == year) & (df['Month'] == month) & (df['Day'] == day) & (df['Open'] == '01:00:00')]['Close']   \n",
    "#             if(month == 11):\n",
    "#                 if(day>0 & day<7):\n",
    "#                     price = df.loc[(df['Year'] == year) & (df['Month'] == month) & (df['Day'] == day) & (df['Open'] == '01:00:00')]['Close']\n",
    "                    \n",
    "#         else:\n",
    "#             price = df.loc[(df['Year'] == year) & (df['Month'] == month) & (df['Day'] == day) & (df['Open'] == '02:00:00')]['Close']  \n",
    "    \n",
    "#     if(year == 2012):\n",
    "#         if((month == 3)|(month == 11)|(month== 10)):\n",
    "#             if(month == 3):\n",
    "#                 if((day>11) & (day<25)):\n",
    "#                     price = df.loc[(df['Year'] == year) & (df['Month'] == month) & (df['Day'] == day) & (df['Open'] == '03:00:00')]['Close']\n",
    "#             if(month == 10):\n",
    "#                 if(day > 28):\n",
    "#                     price = df.loc[(df['Year'] == year) & (df['Month'] == month) & (df['Day'] == day) & (df['Open'] == '01:00:00')]['Close']   \n",
    "#             if(month == 11):\n",
    "#                 if(day>0 & day<5):\n",
    "#                     price = df.loc[(df['Year'] == year) & (df['Month'] == month) & (df['Day'] == day) & (df['Open'] == '01:00:00')]['Close']\n",
    "                    \n",
    "#         else:\n",
    "#             price = df.loc[(df['Year'] == year) & (df['Month'] == month) & (df['Day'] == day) & (df['Open'] == '02:00:00')]['Close']  \n",
    "    \n",
    "#     if(year == 2013):\n",
    "#         if((month == 3)|(month == 11)|(month== 10)):\n",
    "#             if(month == 3):\n",
    "#                 if((day>10) & (day<24)):\n",
    "#                     price = df.loc[(df['Year'] == year) & (df['Month'] == month) & (df['Day'] == day) & (df['Open'] == '03:00:00')]['Close']\n",
    "#             if(month == 10):\n",
    "#                 if(day > 27):\n",
    "#                     price = df.loc[(df['Year'] == year) & (df['Month'] == month) & (df['Day'] == day) & (df['Open'] == '01:00:00')]['Close']   \n",
    "#             if(month == 11):\n",
    "#                 if(day>0 & day<4):\n",
    "#                     price = df.loc[(df['Year'] == year) & (df['Month'] == month) & (df['Day'] == day) & (df['Open'] == '01:00:00')]['Close']\n",
    "                    \n",
    "#         else:\n",
    "#             price = df.loc[(df['Year'] == year) & (df['Month'] == month) & (df['Day'] == day) & (df['Open'] == '02:00:00')]['Close']  \n",
    "    \n",
    "#     if(year == 2014):\n",
    "#         if((month == 3)|(month == 11)|(month== 10)):\n",
    "#             if(month == 3):\n",
    "#                 if((day>9) & (day<23)):\n",
    "#                     price = df.loc[(df['Year'] == year) & (df['Month'] == month) & (df['Day'] == day) & (df['Open'] == '03:00:00')]['Close']\n",
    "#             if(month == 10):\n",
    "#                 if(day > 26):\n",
    "#                     price = df.loc[(df['Year'] == year) & (df['Month'] == month) & (df['Day'] == day) & (df['Open'] == '01:00:00')]['Close']   \n",
    "#             if(month == 11):\n",
    "#                 if(day>0 & day<3):\n",
    "#                     price = df.loc[(df['Year'] == year) & (df['Month'] == month) & (df['Day'] == day) & (df['Open'] == '01:00:00')]['Close']\n",
    "                    \n",
    "#         else:\n",
    "#             price = df.loc[(df['Year'] == year) & (df['Month'] == month) & (df['Day'] == day) & (df['Open'] == '02:00:00')]['Close']  \n",
    "    \n",
    "#     if(year == 2015):\n",
    "#         if((month == 3)|(month == 11)|(month== 10)):\n",
    "#             if(month == 3):\n",
    "#                 if((day>8) & (day<22)):\n",
    "#                     price = df.loc[(df['Year'] == year) & (df['Month'] == month) & (df['Day'] == day) & (df['Open'] == '03:00:00')]['Close']\n",
    "#             if(month == 10):\n",
    "#                 if(day >25):\n",
    "#                     price = df.loc[(df['Year'] == year) & (df['Month'] == month) & (df['Day'] == day) & (df['Open'] == '01:00:00')]['Close']   \n",
    "#             if(month == 11):\n",
    "#                 if(day>0 & day<2):\n",
    "#                     price = df.loc[(df['Year'] == year) & (df['Month'] == month) & (df['Day'] == day) & (df['Open'] == '01:00:00')]['Close']\n",
    "                    \n",
    "#         else:\n",
    "#             price = df.loc[(df['Year'] == year) & (df['Month'] == month) & (df['Day'] == day) & (df['Open'] == '02:00:00')]['Close']  \n",
    "                \n",
    "#     if(year == 2016):\n",
    "#         if((month == 3)|(month == 11)|(month== 10)):\n",
    "#             if(month == 3):\n",
    "#                 if((day>13) & (day<27)):\n",
    "#                     price = df.loc[(df['Year'] == year) & (df['Month'] == month) & (df['Day'] == day) & (df['Open'] == '03:00:00')]['Close']\n",
    "#             if(month == 10):\n",
    "#                 if(day >30):\n",
    "#                     price = df.loc[(df['Year'] == year) & (df['Month'] == month) & (df['Day'] == day) & (df['Open'] == '01:00:00')]['Close']   \n",
    "#             if(month == 11):\n",
    "#                 if(day>0 & day<7):\n",
    "#                     price = df.loc[(df['Year'] == year) & (df['Month'] == month) & (df['Day'] == day) & (df['Open'] == '01:00:00')]['Close']\n",
    "                    \n",
    "#         else:\n",
    "#             price = df.loc[(df['Year'] == year) & (df['Month'] == month) & (df['Day'] == day) & (df['Open'] == '02:00:00')]['Close']  \n",
    "    \n",
    "#     if(year == 2017):\n",
    "#         if((month == 3)|(month == 11)|(month== 10)):\n",
    "#             if(month == 3):\n",
    "#                 if((day>12) & (day<26)):\n",
    "#                     price = df.loc[(df['Year'] == year) & (df['Month'] == month) & (df['Day'] == day) & (df['Open'] == '03:00:00')]['Close']\n",
    "#             if(month == 10):\n",
    "#                 if(day >29):\n",
    "#                     price = df.loc[(df['Year'] == year) & (df['Month'] == month) & (df['Day'] == day) & (df['Open'] == '01:00:00')]['Close']   \n",
    "#             if(month == 11):\n",
    "#                 if(day>0 & day<6):\n",
    "#                     price = df.loc[(df['Year'] == year) & (df['Month'] == month) & (df['Day'] == day) & (df['Open'] == '01:00:00')]['Close']\n",
    "                    \n",
    "#         else:\n",
    "#             price = df.loc[(df['Year'] == year) & (df['Month'] == month) & (df['Day'] == day) & (df['Open'] == '02:00:00')]['Close']  \n",
    "         \n",
    "#     if(year == 2018):\n",
    "#         if((month == 3)|(month == 11)|(month== 10)):\n",
    "#             if(month == 3):\n",
    "#                 if((day>11) & (day<25)):\n",
    "#                     price = df.loc[(df['Year'] == year) & (df['Month'] == month) & (df['Day'] == day) & (df['Open'] == '03:00:00')]['Close']\n",
    "#             if(month == 10):\n",
    "#                 if(day > 28):\n",
    "#                     price = df.loc[(df['Year'] == year) & (df['Month'] == month) & (df['Day'] == day) & (df['Open'] == '01:00:00')]['Close']   \n",
    "#             if(month == 11):\n",
    "#                 if(day>0 & day<5):\n",
    "#                     price = df.loc[(df['Year'] == year) & (df['Month'] == month) & (df['Day'] == day) & (df['Open'] == '01:00:00')]['Close']\n",
    "                    \n",
    "#         else:\n",
    "#             price = df.loc[(df['Year'] == year) & (df['Month'] == month) & (df['Day'] == day) & (df['Open'] == '02:00:00')]['Close']  \n",
    "    \n",
    "#     if(year == 2019):\n",
    "#         if((month == 3)|(month == 11)|(month== 10)):\n",
    "#             if(month == 3):\n",
    "#                 if((day>10) & (day<24)):\n",
    "#                     price = df.loc[(df['Year'] == year) & (df['Month'] == month) & (df['Day'] == day) & (df['Open'] == '03:00:00')]['Close']\n",
    "#             if(month == 10):\n",
    "#                 if(day >27):\n",
    "#                     price = df.loc[(df['Year'] == year) & (df['Month'] == month) & (df['Day'] == day) & (df['Open'] == '01:00:00')]['Close']   \n",
    "#             if(month == 11):\n",
    "#                 if(day>0 & day<4):\n",
    "#                     price = df.loc[(df['Year'] == year) & (df['Month'] == month) & (df['Day'] == day) & (df['Open'] == '01:00:00')]['Close']\n",
    "                    \n",
    "#         else:\n",
    "#             price = df.loc[(df['Year'] == year) & (df['Month'] == month) & (df['Day'] == day) & (df['Open'] == '02:00:00')]['Close']  \n",
    "     \n",
    "#     try:\n",
    "#         FTSE_data.at[x,'5_minutes_after_opening'] = float(price.values[0])\n",
    "#     except:\n",
    "#         FTSE_data.at[x,'5_minutes_after_opening'] = 0"
   ]
  },
  {
   "cell_type": "code",
   "execution_count": 34,
   "metadata": {
    "ExecuteTime": {
     "end_time": "2020-05-27T13:43:31.083058Z",
     "start_time": "2020-05-27T13:43:31.077795Z"
    }
   },
   "outputs": [],
   "source": [
    "# FTSE_data.head()"
   ]
  },
  {
   "cell_type": "code",
   "execution_count": 35,
   "metadata": {
    "ExecuteTime": {
     "end_time": "2020-05-27T13:43:31.093036Z",
     "start_time": "2020-05-27T13:43:31.085822Z"
    }
   },
   "outputs": [],
   "source": [
    "# FTSE_data['5_minutes_after_opening'].value_counts()"
   ]
  },
  {
   "cell_type": "code",
   "execution_count": null,
   "metadata": {},
   "outputs": [],
   "source": []
  },
  {
   "cell_type": "code",
   "execution_count": null,
   "metadata": {},
   "outputs": [],
   "source": []
  },
  {
   "cell_type": "code",
   "execution_count": null,
   "metadata": {},
   "outputs": [],
   "source": []
  },
  {
   "cell_type": "markdown",
   "metadata": {},
   "source": [
    "#### Financial APIs that might be useful later"
   ]
  },
  {
   "cell_type": "markdown",
   "metadata": {
    "ExecuteTime": {
     "end_time": "2020-05-19T10:59:12.204481Z",
     "start_time": "2020-05-19T10:59:12.195406Z"
    }
   },
   "source": [
    "Using Quandl, a financial data API. \n",
    "API key = cPznWn5h_Ek547FYcuUT\n",
    "\n",
    "Using Trading Economics, no key yet"
   ]
  },
  {
   "cell_type": "code",
   "execution_count": 36,
   "metadata": {
    "ExecuteTime": {
     "end_time": "2020-05-27T13:43:31.100947Z",
     "start_time": "2020-05-27T13:43:31.097020Z"
    }
   },
   "outputs": [],
   "source": [
    "# te.login()"
   ]
  },
  {
   "cell_type": "code",
   "execution_count": 37,
   "metadata": {
    "ExecuteTime": {
     "end_time": "2020-05-27T13:43:31.109194Z",
     "start_time": "2020-05-27T13:43:31.104300Z"
    }
   },
   "outputs": [],
   "source": [
    "# te.getMarketsSearch(country='united kingdom', category = 'index')[0]['DailyChange']"
   ]
  },
  {
   "cell_type": "code",
   "execution_count": 38,
   "metadata": {
    "ExecuteTime": {
     "end_time": "2020-05-27T13:43:31.115345Z",
     "start_time": "2020-05-27T13:43:31.112184Z"
    }
   },
   "outputs": [],
   "source": [
    "# now = te.getMarketsIntraday(symbols='UKX:IND',initDate='2015-01-01', endDate='2015-01-01')"
   ]
  },
  {
   "cell_type": "code",
   "execution_count": 39,
   "metadata": {
    "ExecuteTime": {
     "end_time": "2020-05-27T13:43:31.122963Z",
     "start_time": "2020-05-27T13:43:31.118909Z"
    },
    "scrolled": true
   },
   "outputs": [],
   "source": [
    "# now"
   ]
  },
  {
   "cell_type": "code",
   "execution_count": 40,
   "metadata": {
    "ExecuteTime": {
     "end_time": "2020-05-27T13:43:31.131870Z",
     "start_time": "2020-05-27T13:43:31.126630Z"
    },
    "scrolled": true
   },
   "outputs": [],
   "source": [
    "# te.fetchMarkets(symbol='UKX:IND', initDate='2017-01-01', endDate='2017-06-15')"
   ]
  },
  {
   "cell_type": "code",
   "execution_count": 41,
   "metadata": {
    "ExecuteTime": {
     "end_time": "2020-05-27T13:43:31.140076Z",
     "start_time": "2020-05-27T13:43:31.135121Z"
    }
   },
   "outputs": [],
   "source": [
    "# te.getMarketsData(marketsField='index', output_type='df')"
   ]
  },
  {
   "cell_type": "code",
   "execution_count": 42,
   "metadata": {
    "ExecuteTime": {
     "end_time": "2020-05-27T13:43:31.146071Z",
     "start_time": "2020-05-27T13:43:31.142809Z"
    }
   },
   "outputs": [],
   "source": [
    "# te.getHistorical('UKX:IND')"
   ]
  },
  {
   "cell_type": "code",
   "execution_count": 43,
   "metadata": {
    "ExecuteTime": {
     "end_time": "2020-05-27T13:43:31.152802Z",
     "start_time": "2020-05-27T13:43:31.149305Z"
    }
   },
   "outputs": [],
   "source": [
    "# ftse = pd.read_csv('ftse_data/ftse2018.csv')"
   ]
  },
  {
   "cell_type": "code",
   "execution_count": 44,
   "metadata": {
    "ExecuteTime": {
     "end_time": "2020-05-27T13:43:31.160246Z",
     "start_time": "2020-05-27T13:43:31.155943Z"
    }
   },
   "outputs": [],
   "source": [
    "# ftse.tail()"
   ]
  },
  {
   "cell_type": "code",
   "execution_count": 45,
   "metadata": {
    "ExecuteTime": {
     "end_time": "2020-05-27T13:43:31.167387Z",
     "start_time": "2020-05-27T13:43:31.163918Z"
    }
   },
   "outputs": [],
   "source": [
    "# msft = yf.Ticker(\"MSFT\")\n",
    "# msft.info"
   ]
  },
  {
   "cell_type": "code",
   "execution_count": 46,
   "metadata": {
    "ExecuteTime": {
     "end_time": "2020-05-27T13:43:31.173061Z",
     "start_time": "2020-05-27T13:43:31.170280Z"
    }
   },
   "outputs": [],
   "source": [
    "# data = yf.download(\"^FTSE\", start=\"2020-05-01\", end=\"2020-05-02\", interval='5m')"
   ]
  },
  {
   "cell_type": "code",
   "execution_count": 47,
   "metadata": {
    "ExecuteTime": {
     "end_time": "2020-05-27T13:43:31.179320Z",
     "start_time": "2020-05-27T13:43:31.175945Z"
    }
   },
   "outputs": [],
   "source": [
    "# len(data)"
   ]
  },
  {
   "cell_type": "code",
   "execution_count": 48,
   "metadata": {
    "ExecuteTime": {
     "end_time": "2020-05-27T13:43:31.186098Z",
     "start_time": "2020-05-27T13:43:31.182783Z"
    }
   },
   "outputs": [],
   "source": [
    "# data.tail()"
   ]
  },
  {
   "cell_type": "markdown",
   "metadata": {},
   "source": [
    "### Newspaper Data"
   ]
  },
  {
   "cell_type": "markdown",
   "metadata": {},
   "source": [
    "Obvious APIs to pursue - Guardian, FT and NYT. Will need more than this though!"
   ]
  },
  {
   "cell_type": "markdown",
   "metadata": {},
   "source": [
    "#### Guardian (UK)"
   ]
  },
  {
   "cell_type": "code",
   "execution_count": 49,
   "metadata": {
    "ExecuteTime": {
     "end_time": "2020-05-27T13:43:31.381760Z",
     "start_time": "2020-05-27T13:43:31.188711Z"
    }
   },
   "outputs": [],
   "source": [
    "credentials = 'c853c290-3354-45c1-aa01-ac9bb7bf8ab7'  \n",
    "r = requests.get('https://content.guardianapis.com/search?from-date=2020-05-22&to-date=2020-05-22&production-office=uk&section=business&&api-key=' + credentials)"
   ]
  },
  {
   "cell_type": "code",
   "execution_count": 50,
   "metadata": {
    "ExecuteTime": {
     "end_time": "2020-05-27T13:43:31.391236Z",
     "start_time": "2020-05-27T13:43:31.383904Z"
    }
   },
   "outputs": [
    {
     "data": {
      "text/plain": [
       "<Response [200]>"
      ]
     },
     "execution_count": 50,
     "metadata": {},
     "output_type": "execute_result"
    }
   ],
   "source": [
    "r"
   ]
  },
  {
   "cell_type": "code",
   "execution_count": 51,
   "metadata": {
    "ExecuteTime": {
     "end_time": "2020-05-27T13:43:31.584791Z",
     "start_time": "2020-05-27T13:43:31.393810Z"
    }
   },
   "outputs": [
    {
     "data": {
      "text/plain": [
       "'{\"response\":{\"status\":\"ok\",\"userTier\":\"developer\",\"total\":11,\"startIndex\":1,\"pageSize\":10,\"currentPage\":1,\"pages\":2,\"orderBy\":\"newest\",\"results\":[{\"id\":\"sport/2020/may/22/mclaren-pledges-luxury-cars-as-collateral-in-bid-to-secure-250m\",\"type\":\"article\",\"sectionId\":\"business\",\"sectionName\":\"Business\",\"webPublicationDate\":\"2020-05-22T17:50:26Z\",\"webTitle\":\"McLaren pledges luxury cars as collateral in bid to secure Â£250m\",\"webUrl\":\"https://www.theguardian.com/sport/2020/may/22/mclaren-pledges-luxury-cars-as-collateral-in-bid-to-secure-250m\",\"apiUrl\":\"https://content.guardianapis.com/sport/2020/may/22/mclaren-pledges-luxury-cars-as-collateral-in-bid-to-secure-250m\",\"isHosted\":false,\"pillarId\":\"pillar/news\",\"pillarName\":\"News\"},{\"id\":\"business/2020/may/22/uk-holiday-firm-slg-collapses-with-2500-job-losses\",\"type\":\"article\",\"sectionId\":\"business\",\"sectionName\":\"Business\",\"webPublicationDate\":\"2020-05-22T17:36:23Z\",\"webTitle\":\"Shearings coach travel owner SLG collapses with 2,500 job losses\",\"webUrl\":\"https://www.theguardian.com/business/2020/may/22/uk-holiday-firm-slg-collapses-with-2500-job-losses\",\"apiUrl\":\"https://content.guardianapis.com/business/2020/may/22/uk-holiday-firm-slg-collapses-with-2500-job-losses\",\"isHosted\":false,\"pillarId\":\"pillar/news\",\"pillarName\":\"News\"},{\"id\":\"business/2020/may/22/beer-brewers-carlsberg-and-marstons-announce-uk-merger\",\"type\":\"article\",\"sectionId\":\"business\",\"sectionName\":\"Business\",\"webPublicationDate\":\"2020-05-22T17:25:40Z\",\"webTitle\":\"Brewers Carlsberg UK and Marston\\'s announce merger\",\"webUrl\":\"https://www.theguardian.com/business/2020/may/22/beer-brewers-carlsberg-and-marstons-announce-uk-merger\",\"apiUrl\":\"https://content.guardianapis.com/business/2020/may/22/beer-brewers-carlsberg-and-marstons-announce-uk-merger\",\"isHosted\":false,\"pillarId\":\"pillar/news\",\"pillarName\":\"News\"},{\"id\":\"business/2020/may/22/global-markets-fall-as-china-moves-to-tighten-control-over-hong-kong\",\"type\":\"article\",\"sectionId\":\"business\",\"sectionName\":\"Business\",\"webPublicationDate\":\"2020-05-22T16:28:54Z\",\"webTitle\":\"Global markets fall as China moves to tighten control over Hong Kong\",\"webUrl\":\"https://www.theguardian.com/business/2020/may/22/global-markets-fall-as-china-moves-to-tighten-control-over-hong-kong\",\"apiUrl\":\"https://content.guardianapis.com/business/2020/may/22/global-markets-fall-as-china-moves-to-tighten-control-over-hong-kong\",\"isHosted\":false,\"pillarId\":\"pillar/news\",\"pillarName\":\"News\"},{\"id\":\"business/live/2020/may/22/uk-government-borrowing-record-high-april-retail-sales-slump-covid-19-coronavirus-business-live\",\"type\":\"liveblog\",\"sectionId\":\"business\",\"sectionName\":\"Business\",\"webPublicationDate\":\"2020-05-22T15:49:05Z\",\"webTitle\":\"UK government borrowing hits record high in April and retail sales slump - as it happened\",\"webUrl\":\"https://www.theguardian.com/business/live/2020/may/22/uk-government-borrowing-record-high-april-retail-sales-slump-covid-19-coronavirus-business-live\",\"apiUrl\":\"https://content.guardianapis.com/business/live/2020/may/22/uk-government-borrowing-record-high-april-retail-sales-slump-covid-19-coronavirus-business-live\",\"isHosted\":false,\"pillarId\":\"pillar/news\",\"pillarName\":\"News\"},{\"id\":\"business/2020/may/22/ikea-reopen-stores-uk-lockdown-furniture-covid-19\",\"type\":\"article\",\"sectionId\":\"business\",\"sectionName\":\"Business\",\"webPublicationDate\":\"2020-05-22T15:00:15Z\",\"webTitle\":\"Ikea to reopen 19 stores during UK lockdown\",\"webUrl\":\"https://www.theguardian.com/business/2020/may/22/ikea-reopen-stores-uk-lockdown-furniture-covid-19\",\"apiUrl\":\"https://content.guardianapis.com/business/2020/may/22/ikea-reopen-stores-uk-lockdown-furniture-covid-19\",\"isHosted\":false,\"pillarId\":\"pillar/news\",\"pillarName\":\"News\"},{\"id\":\"business/2020/may/22/burberry-cancels-dividend-sales-plunge-covid-19\",\"type\":\"article\",\"sectionId\":\"business\",\"sectionName\":\"Business\",\"webPublicationDate\":\"2020-05-22T12:13:36Z\",\"webTitle\":\"Burberry cancels dividend after sales plunge 27%\",\"webUrl\":\"https://www.theguardian.com/business/2020/may/22/burberry-cancels-dividend-sales-plunge-covid-19\",\"apiUrl\":\"https://content.guardianapis.com/business/2020/may/22/burberry-cancels-dividend-sales-plunge-covid-19\",\"isHosted\":false,\"pillarId\":\"pillar/news\",\"pillarName\":\"News\"},{\"id\":\"business/2020/may/22/the-covid-19-bill-means-the-treasury-must-live-with-high-borrowing\",\"type\":\"article\",\"sectionId\":\"business\",\"sectionName\":\"Business\",\"webPublicationDate\":\"2020-05-22T11:52:37Z\",\"webTitle\":\"The Covid-19 bill means the Treasury must live with high borrowing\",\"webUrl\":\"https://www.theguardian.com/business/2020/may/22/the-covid-19-bill-means-the-treasury-must-live-with-high-borrowing\",\"apiUrl\":\"https://content.guardianapis.com/business/2020/may/22/the-covid-19-bill-means-the-treasury-must-live-with-high-borrowing\",\"isHosted\":false,\"pillarId\":\"pillar/news\",\"pillarName\":\"News\"},{\"id\":\"business/2020/may/22/jd-wetherspoon-pubs-reopen-lockdown-staff-goggles\",\"type\":\"article\",\"sectionId\":\"business\",\"sectionName\":\"Business\",\"webPublicationDate\":\"2020-05-22T11:16:16Z\",\"webTitle\":\"JD Wetherspoon pubs to reopen with staff in goggles post-lockdown\",\"webUrl\":\"https://www.theguardian.com/business/2020/may/22/jd-wetherspoon-pubs-reopen-lockdown-staff-goggles\",\"apiUrl\":\"https://content.guardianapis.com/business/2020/may/22/jd-wetherspoon-pubs-reopen-lockdown-staff-goggles\",\"isHosted\":false,\"pillarId\":\"pillar/news\",\"pillarName\":\"News\"},{\"id\":\"business/2020/may/22/easyjet-founder-stelios-fails-in-attempt-to-oust-chairman-and-ceo\",\"type\":\"article\",\"sectionId\":\"business\",\"sectionName\":\"Business\",\"webPublicationDate\":\"2020-05-22T11:09:29Z\",\"webTitle\":\"EasyJet founder Stelios fails in attempt to oust chairman and CEO\",\"webUrl\":\"https://www.theguardian.com/business/2020/may/22/easyjet-founder-stelios-fails-in-attempt-to-oust-chairman-and-ceo\",\"apiUrl\":\"https://content.guardianapis.com/business/2020/may/22/easyjet-founder-stelios-fails-in-attempt-to-oust-chairman-and-ceo\",\"isHosted\":false,\"pillarId\":\"pillar/news\",\"pillarName\":\"News\"}]}}'"
      ]
     },
     "execution_count": 51,
     "metadata": {},
     "output_type": "execute_result"
    }
   ],
   "source": [
    "r.text"
   ]
  },
  {
   "cell_type": "code",
   "execution_count": 52,
   "metadata": {
    "ExecuteTime": {
     "end_time": "2020-05-27T13:43:31.597804Z",
     "start_time": "2020-05-27T13:43:31.591036Z"
    }
   },
   "outputs": [],
   "source": [
    "def guardian_headline_finder(r):\n",
    "    #takes in r, the API response, and evaluates the text, returning a list of the headlines contained\n",
    "    cleaner_headlines_list = []\n",
    "    clean_headlines_list = []\n",
    "    results = r.text.split(\"results\")\n",
    "    messy_headlines = results[1].split(\"webTitle\")\n",
    "    messy_headlines.pop(0)\n",
    "    messy_headlines\n",
    "    for x in messy_headlines:\n",
    "        cleaner_headlines = x.split(\"webUrl\")\n",
    "        cleaner_headlines_list.append(cleaner_headlines[0])\n",
    "\n",
    "    for x in cleaner_headlines_list:\n",
    "        cleaner_headlines2 = x.split(\":\")\n",
    "        cleaner_headlines2[1] = cleaner_headlines2[1][1:] #removes first character from the second string\n",
    "        clean_headlines_list.append(cleaner_headlines2[1][:-3]) #removes final three characters from the second string\n",
    "    \n",
    "    return clean_headlines_list"
   ]
  },
  {
   "cell_type": "code",
   "execution_count": 53,
   "metadata": {
    "ExecuteTime": {
     "end_time": "2020-05-27T13:43:31.740787Z",
     "start_time": "2020-05-27T13:43:31.602353Z"
    }
   },
   "outputs": [
    {
     "data": {
      "text/plain": [
       "['McLaren pledges luxury cars as collateral in bid to secure Â£250m',\n",
       " 'Shearings coach travel owner SLG collapses with 2,500 job losses',\n",
       " \"Brewers Carlsberg UK and Marston's announce merger\",\n",
       " 'Global markets fall as China moves to tighten control over Hong Kong',\n",
       " 'UK government borrowing hits record high in April and retail sales slump - as it happened',\n",
       " 'Ikea to reopen 19 stores during UK lockdown',\n",
       " 'Burberry cancels dividend after sales plunge 27%',\n",
       " 'The Covid-19 bill means the Treasury must live with high borrowing',\n",
       " 'JD Wetherspoon pubs to reopen with staff in goggles post-lockdown',\n",
       " 'EasyJet founder Stelios fails in attempt to oust chairman and CEO']"
      ]
     },
     "execution_count": 53,
     "metadata": {},
     "output_type": "execute_result"
    }
   ],
   "source": [
    "guardian_headline_finder(r)"
   ]
  },
  {
   "cell_type": "markdown",
   "metadata": {},
   "source": [
    "Iterate through a few different sections, and also remember to add in the times so you can use them in your analysis "
   ]
  },
  {
   "cell_type": "markdown",
   "metadata": {},
   "source": [
    "#### NYT (USA)"
   ]
  },
  {
   "cell_type": "code",
   "execution_count": 54,
   "metadata": {
    "ExecuteTime": {
     "end_time": "2020-05-27T13:43:32.360222Z",
     "start_time": "2020-05-27T13:43:31.743655Z"
    }
   },
   "outputs": [],
   "source": [
    "credentials = 'AjoGztA9jXOIMfD959PCDLGMb0Ubzwdq'\n",
    "r2 = requests.get(\"https://api.nytimes.com/svc/mostpopular/v2/viewed/1.json?api-key=\" + credentials)"
   ]
  },
  {
   "cell_type": "code",
   "execution_count": 55,
   "metadata": {
    "ExecuteTime": {
     "end_time": "2020-05-27T13:43:32.373183Z",
     "start_time": "2020-05-27T13:43:32.363897Z"
    }
   },
   "outputs": [
    {
     "data": {
      "text/plain": [
       "<Response [200]>"
      ]
     },
     "execution_count": 55,
     "metadata": {},
     "output_type": "execute_result"
    }
   ],
   "source": [
    "r2"
   ]
  },
  {
   "cell_type": "code",
   "execution_count": 66,
   "metadata": {
    "ExecuteTime": {
     "end_time": "2020-05-27T14:30:23.300534Z",
     "start_time": "2020-05-27T14:30:23.292307Z"
    }
   },
   "outputs": [
    {
     "data": {
      "text/plain": [
       "'{\"status\":\"OK\",\"copyright\":\"Copyright (c) 2020 The New York Times Company.  All Rights Reserved.\",\"num_results\":20,\"results\":[{\"uri\":\"nyt://article/120696c7-aa80-5be0-b7da-0649b449c913\",\"url\":\"https://www.nytimes.com/2020/05/26/nyregion/amy-cooper-dog-central-park.html\",\"id\":100000007156920,\"asset_id\":100000007156920,\"source\":\"New York Times\",\"published_date\":\"2020-05-26\",\"updated\":\"2020-05-27 09:30:30\",\"section\":\"New York\",\"subsection\":\"\",\"nytdsection\":\"new york\",\"adx_keywords\":\"Black People;Race and Ethnicity;Social Media;Discrimination;Dogs;Birdwatching;Cooper, Amy (May 25, 2020 Central Park Incident);Central Park (Manhattan, NY)\",\"column\":null,\"byline\":\"By Sarah Maslin Nir\",\"type\":\"Article\",\"title\":\"White Woman Is Fired After Calling Police on Black Man in Central Park\",\"abstract\":\"Video of the incident touched off intense discussions about the history of black people being falsely reported to the police.\",\"des_facet\":[\"Black People\",\"Race and Ethnicity\",\"Social Media\",\"Discrimination\",\"Dogs\",\"Birdwatching\"],\"org_facet\":[],\"per_facet\":[\"Cooper, Amy (May 25, 2020 Central Park Incident)\"],\"geo_facet\":[\"Central Park (Manhattan, NY)\"],\"media\":[{\"type\":\"image\",\"subtype\":\"photo\",\"caption\":\"Video of Amy Cooper with her dog in Central Park was widely shared on social media on Monday.\",\"copyright\":\"\",\"approved_for_syndication\":1,\"media-metadata\":[{\"url\":\"https://static01.nyt.com/images/2020/05/26/nyregion/26Central-Park1/26Central-Park1-thumbStandard.jpg\",\"format\":\"Standard Thumbnail\",\"height\":75,\"width\":75},{\"url\":\"https://static01.nyt.com/images/2020/05/26/nyregion/26Central-Park1/26Central-Park1-mediumThreeByTwo210.jpg\",\"format\":\"mediumThreeByTwo210\",\"height\":140,\"width\":210},{\"url\":\"https://static01.nyt.com/images/2020/05/26/nyregion/26Central-Park1/26Central-Park1-mediumThreeByTwo440.jpg\",\"format\":\"mediumThreeByTwo440\",\"height\":293,\"width\":440}]}],\"eta_id\":0},{\"uri\":\"nyt://article/6d905f40-f7db-5716-a1c6-18d2eb62c7c6\",\"url\":\"https://www.nytimes.com/2020/05/26/us/minneapolis-police-man-died.html\",\"id\":100000007156916,\"asset_id\":100000007156916,\"source\":\"New York Times\",\"published_date\":\"2020-05-26\",\"updated\":\"2020-05-27 08:56:45\",\"section\":\"U.S.\",\"subsection\":\"\",\"nytdsection\":\"u.s.\",\"adx_keywords\":\"Black People;Police Brutality, Misconduct and Shootings;Video Recordings, Downloads and Streaming;Demonstrations, Protests and Riots;Frey, Jacob (1981- );Floyd, George (d 2020);Police Department (Minneapolis, Minn);Federal Bureau of Investigation;Minneapolis (Minn)\",\"column\":null,\"byline\":\"By Christine Hauser, Derrick Bryson Taylor and Neil Vigdor\",\"type\":\"Article\",\"title\":\"‘I Can’t Breathe’: 4 Minneapolis Officers Fired After Black Man Dies in Custody\",\"abstract\":\"“Being black in America should not be a death sentence,” the city’s mayor said as video of the arrest was widely shared.\",\"des_facet\":[\"Black People\",\"Police Brutality, Misconduct and Shootings\",\"Video Recordings, Downloads and Streaming\",\"Demonstrations, Protests and Riots\"],\"org_facet\":[\"Police Department (Minneapolis, Minn)\",\"Federal Bureau of Investigation\"],\"per_facet\":[\"Frey, Jacob (1981- )\",\"Floyd, George (d 2020)\"],\"geo_facet\":[\"Minneapolis (Minn)\"],\"media\":[{\"type\":\"image\",\"subtype\":\"photo\",\"caption\":\"George Floyd\",\"copyright\":\"Offices of Ben Crump Law\",\"approved_for_syndication\":1,\"media-metadata\":[{\"url\":\"https://static01.nyt.com/images/2020/05/26/us/26xp-minneapolis-floyd/26xp-minneapolis-floyd-thumbStandard.jpg\",\"format\":\"Standard Thumbnail\",\"height\":75,\"width\":75},{\"url\":\"https://static01.nyt.com/images/2020/05/26/us/26xp-minneapolis-floyd/26xp-minneapolis-floyd-mediumThreeByTwo210-v2.jpg\",\"format\":\"mediumThreeByTwo210\",\"height\":140,\"width\":210},{\"url\":\"https://static01.nyt.com/images/2020/05/26/us/26xp-minneapolis-floyd/26xp-minneapolis-floyd-mediumThreeByTwo440-v2.jpg\",\"format\":\"mediumThreeByTwo440\",\"height\":293,\"width\":440}]}],\"eta_id\":0},{\"uri\":\"nyt://article/5003d27d-539b-52b7-8559-160df34e6587\",\"url\":\"https://www.nytimes.com/2020/05/26/opinion/trump-scarborough-twitter.html\",\"id\":100000007156340,\"asset_id\":100000007156340,\"source\":\"New York Times\",\"published_date\":\"2020-05-26\",\"updated\":\"2020-05-27 02:09:16\",\"section\":\"Opinion\",\"subsection\":\"\",\"nytdsection\":\"opinion\",\"adx_keywords\":\"Social Media;Rumors and Misinformation;Scarborough, Joe;Trump, Donald J;Dorsey, Jack;Twitter\",\"column\":null,\"byline\":\"By Kara Swisher\",\"type\":\"Article\",\"title\":\"Twitter Must Cleanse the Trump Stain\",\"abstract\":\"The president is spreading a vile conspiracy theory on the platform. Maybe Twitter should finally hold him to its rules.\",\"des_facet\":[\"Social Media\",\"Rumors and Misinformation\"],\"org_facet\":[\"Twitter\"],\"per_facet\":[\"Scarborough, Joe\",\"Trump, Donald J\",\"Dorsey, Jack\"],\"geo_facet\":[],\"media\":[{\"type\":\"image\",\"subtype\":\"photo\",\"caption\":\"President Trump has been promoting a falsehood about the death of a woman nearly two decades ago.\",\"copyright\":\"Samuel Corum for The New York Times\",\"approved_for_syndication\":1,\"media-metadata\":[{\"url\":\"https://static01.nyt.com/images/2020/05/26/opinion/26swisherWeb/26swisherWeb-thumbStandard.jpg\",\"format\":\"Standard Thumbnail\",\"height\":75,\"width\":75},{\"url\":\"https://static01.nyt.com/images/2020/05/26/opinion/26swisherWeb/26swisherWeb-mediumThreeByTwo210.jpg\",\"format\":\"mediumThreeByTwo210\",\"height\":140,\"width\":210},{\"url\":\"https://static01.nyt.com/images/2020/05/26/opinion/26swisherWeb/26swisherWeb-mediumThreeByTwo440.jpg\",\"format\":\"mediumThreeByTwo440\",\"height\":293,\"width\":440}]}],\"eta_id\":0},{\"uri\":\"nyt://article/be96c1d4-0c8a-549d-8fa5-33de68f12a51\",\"url\":\"https://www.nytimes.com/2020/05/26/us/politics/klausutis-letter-jack-dorsey.html\",\"id\":100000007157032,\"asset_id\":100000007157032,\"source\":\"New York Times\",\"published_date\":\"2020-05-26\",\"updated\":\"2020-05-27 09:30:26\",\"section\":\"U.S.\",\"subsection\":\"Politics\",\"nytdsection\":\"u.s.\",\"adx_keywords\":\"Rumors and Misinformation;Social Media;Trump, Donald J;Dorsey, Jack;Scarborough, Joe;Twitter\",\"column\":null,\"byline\":\"By Peter Baker and Maggie Astor\",\"type\":\"Article\",\"title\":\"Trump Pushes a Conspiracy Theory That Falsely Accuses a TV Host of Murder\",\"abstract\":\"On Twitter and at a news conference, the president said Joe Scarborough was responsible for the death of Lori Klausutis, who worked for him when he was a congressman. But Twitter refused her husband’s request to have the false tweets removed.\",\"des_facet\":[\"Rumors and Misinformation\",\"Social Media\"],\"org_facet\":[\"Twitter\"],\"per_facet\":[\"Trump, Donald J\",\"Dorsey, Jack\",\"Scarborough, Joe\"],\"geo_facet\":[],\"media\":[{\"type\":\"image\",\"subtype\":\"photo\",\"caption\":\"President Trump has repeatedly promoted a conspiracy theory as part of a long-running attack on Joe Scarborough.\",\"copyright\":\"Doug Mills/The New York Times\",\"approved_for_syndication\":1,\"media-metadata\":[{\"url\":\"https://static01.nyt.com/images/2020/05/26/us/politics/26dc-trump-scarborough/26dc-trump-scarborough-thumbStandard.jpg\",\"format\":\"Standard Thumbnail\",\"height\":75,\"width\":75},{\"url\":\"https://static01.nyt.com/images/2020/05/26/us/politics/26dc-trump-scarborough/26dc-trump-scarborough-mediumThreeByTwo210.jpg\",\"format\":\"mediumThreeByTwo210\",\"height\":140,\"width\":210},{\"url\":\"https://static01.nyt.com/images/2020/05/26/us/politics/26dc-trump-scarborough/26dc-trump-scarborough-mediumThreeByTwo440.jpg\",\"format\":\"mediumThreeByTwo440\",\"height\":293,\"width\":440}]}],\"eta_id\":0},{\"uri\":\"nyt://article/a35489bc-b50b-5c8a-81df-889d4877bd14\",\"url\":\"https://www.nytimes.com/2020/05/26/technology/twitter-trump-mail-in-ballots.html\",\"id\":100000007158358,\"asset_id\":100000007158358,\"source\":\"New York Times\",\"published_date\":\"2020-05-26\",\"updated\":\"2020-05-27 09:30:26\",\"section\":\"Technology\",\"subsection\":\"\",\"nytdsection\":\"technology\",\"adx_keywords\":\"Social Media;Computers and the Internet;Absentee Voting;Labeling and Labels (Product);Trump, Donald J;Twitter\",\"column\":null,\"byline\":\"By Kate Conger and Davey Alba\",\"type\":\"Article\",\"title\":\"Twitter Refutes Inaccuracies in Trump’s Tweets About Mail-In Voting\",\"abstract\":\"Twitter added a link to two of President Trump’s tweets in which he had made false claims about mail-in ballots, urging people to “get the facts.”\",\"des_facet\":[\"Social Media\",\"Computers and the Internet\",\"Absentee Voting\",\"Labeling and Labels (Product)\"],\"org_facet\":[\"Twitter\"],\"per_facet\":[\"Trump, Donald J\"],\"geo_facet\":[],\"media\":[{\"type\":\"image\",\"subtype\":\"photo\",\"caption\":\"Jack Dorsey, the chief executive of Twitter, has come under scrutiny over the company’s handling of tweets from President Trump.\",\"copyright\":\"Francois Mori/Associated Press\",\"approved_for_syndication\":1,\"media-metadata\":[{\"url\":\"https://static01.nyt.com/images/2020/05/26/business/26twittertrump1/merlin_169906386_2aa95958-984d-4c2e-9f3e-4b9d1539fc24-thumbStandard.jpg\",\"format\":\"Standard Thumbnail\",\"height\":75,\"width\":75},{\"url\":\"https://static01.nyt.com/images/2020/05/26/business/26twittertrump1/merlin_169906386_2aa95958-984d-4c2e-9f3e-4b9d1539fc24-mediumThreeByTwo210.jpg\",\"format\":\"mediumThreeByTwo210\",\"height\":140,\"width\":210},{\"url\":\"https://static01.nyt.com/images/2020/05/26/business/26twittertrump1/merlin_169906386_2aa95958-984d-4c2e-9f3e-4b9d1539fc24-mediumThreeByTwo440.jpg\",\"format\":\"mediumThreeByTwo440\",\"height\":293,\"width\":440}]}],\"eta_id\":0},{\"uri\":\"nyt://article/b92582e0-a7ed-5685-a3a4-24dde48db393\",\"url\":\"https://www.nytimes.com/2020/05/26/world/europe/italy-bear-boy-video.html\",\"id\":100000007157301,\"asset_id\":100000007157301,\"source\":\"New York Times\",\"published_date\":\"2020-05-26\",\"updated\":\"2020-05-27 00:05:25\",\"section\":\"World\",\"subsection\":\"Europe\",\"nytdsection\":\"world\",\"adx_keywords\":\"Bears;Hikes and Hiking;Dolomite Mountains (Italy);Italy\",\"column\":null,\"byline\":\"By Elisabetta Povoledo\",\"type\":\"Article\",\"title\":\"A Boy, a Bear and a Close Call in the Mountains of Italy\",\"abstract\":\"A 12-year-old knew what to do (and what not to) when he crossed paths with a large bear on a hike. A video of the encounter has gone viral.\",\"des_facet\":[\"Bears\",\"Hikes and Hiking\"],\"org_facet\":[],\"per_facet\":[],\"geo_facet\":[\"Dolomite Mountains (Italy)\",\"Italy\"],\"media\":[{\"type\":\"image\",\"subtype\":\"photo\",\"caption\":\"\",\"copyright\":\"\",\"approved_for_syndication\":1,\"media-metadata\":[{\"url\":\"https://static01.nyt.com/images/2020/05/26/world/26italy-bear-promo/26italy-bear-promo-thumbStandard.jpg\",\"format\":\"Standard Thumbnail\",\"height\":75,\"width\":75},{\"url\":\"https://static01.nyt.com/images/2020/05/26/world/26italy-bear-promo/26italy-bear-promo-mediumThreeByTwo210.jpg\",\"format\":\"mediumThreeByTwo210\",\"height\":140,\"width\":210},{\"url\":\"https://static01.nyt.com/images/2020/05/26/world/26italy-bear-promo/26italy-bear-promo-mediumThreeByTwo440.jpg\",\"format\":\"mediumThreeByTwo440\",\"height\":293,\"width\":440}]}],\"eta_id\":0},{\"uri\":\"nyt://article/d74ad3aa-78ea-5e43-b219-3c1f40bb84ce\",\"url\":\"https://www.nytimes.com/2020/05/26/health/coronavirus-peter-piot.html\",\"id\":100000007131175,\"asset_id\":100000007131175,\"source\":\"New York Times\",\"published_date\":\"2020-05-26\",\"updated\":\"2020-05-26 22:07:34\",\"section\":\"Health\",\"subsection\":\"\",\"nytdsection\":\"health\",\"adx_keywords\":\"Coronavirus (2019-nCoV);Ebola Virus;Oxygen;Epidemics;Lungs;Immune System;Acquired Immune Deficiency Syndrome;Steroids;your-feed-science;your-feed-health;Piot, Peter;International AIDS Society;UNAIDS\",\"column\":null,\"byline\":\"By Donald G. McNeil Jr.\",\"type\":\"Article\",\"title\":\"A Virus-Hunter Falls Prey to a Virus He Underestimated\",\"abstract\":\"Peter Piot, 71, one of the giants of Ebola and AIDS research, is still battling a coronavirus infection that hit him “like a bus” in March.\",\"des_facet\":[\"Coronavirus (2019-nCoV)\",\"Ebola Virus\",\"Oxygen\",\"Epidemics\",\"Lungs\",\"Immune System\",\"Acquired Immune Deficiency Syndrome\",\"Steroids\",\"your-feed-science\",\"your-feed-health\"],\"org_facet\":[\"International AIDS Society\",\"UNAIDS\"],\"per_facet\":[\"Piot, Peter\"],\"geo_facet\":[],\"media\":[{\"type\":\"image\",\"subtype\":\"photo\",\"caption\":\"Dr. Peter Piot, the director of the London School of Hygiene and Tropical Medicine, with his wife, Dr. Heidi Larson, an anthropologist and director of the school’s Vaccine Confidence Project, at home in London.\",\"copyright\":\"Andrew Testa for The New York Times\",\"approved_for_syndication\":1,\"media-metadata\":[{\"url\":\"https://static01.nyt.com/images/2020/05/12/science/00VIRUS-PIOT1/00VIRUS-PIOT1-thumbStandard.jpg\",\"format\":\"Standard Thumbnail\",\"height\":75,\"width\":75},{\"url\":\"https://static01.nyt.com/images/2020/05/12/science/00VIRUS-PIOT1/00VIRUS-PIOT1-mediumThreeByTwo210-v2.jpg\",\"format\":\"mediumThreeByTwo210\",\"height\":140,\"width\":210},{\"url\":\"https://static01.nyt.com/images/2020/05/12/science/00VIRUS-PIOT1/00VIRUS-PIOT1-mediumThreeByTwo440-v2.jpg\",\"format\":\"mediumThreeByTwo440\",\"height\":293,\"width\":440}]}],\"eta_id\":0},{\"uri\":\"nyt://article/c23ebeec-ac85-508f-b767-01ccf57721fd\",\"url\":\"https://www.nytimes.com/2020/05/25/us/politics/coronavirus-red-blue-states.html\",\"id\":100000007127394,\"asset_id\":100000007127394,\"source\":\"New York Times\",\"published_date\":\"2020-05-25\",\"updated\":\"2020-05-26 11:53:08\",\"section\":\"U.S.\",\"subsection\":\"Politics\",\"nytdsection\":\"u.s.\",\"adx_keywords\":\"Coronavirus (2019-nCoV);States (US);Coronavirus Reopenings;Shutdowns (Institutional);United States Economy;Voting and Voters;Deaths (Fatalities);Rural Areas;Quarantines;Polls and Public Opinion;United States Politics and Government;Urban Areas;Democratic Party;Republican Party\",\"column\":null,\"byline\":\"By Jennifer Medina and Robert Gebeloff\",\"type\":\"Article\",\"title\":\"The Coronavirus Is Deadliest Where Democrats Live\",\"abstract\":\"Beyond perception and ideology, there are starkly different realities for red and blue America right now.\",\"des_facet\":[\"Coronavirus (2019-nCoV)\",\"States (US)\",\"Coronavirus Reopenings\",\"Shutdowns (Institutional)\",\"United States Economy\",\"Voting and Voters\",\"Deaths (Fatalities)\",\"Rural Areas\",\"Quarantines\",\"Polls and Public Opinion\",\"United States Politics and Government\",\"Urban Areas\"],\"org_facet\":[\"Democratic Party\",\"Republican Party\"],\"per_facet\":[],\"geo_facet\":[],\"media\":[],\"eta_id\":0},{\"uri\":\"nyt://article/1427f14b-e052-5bd3-8ac2-c9ea1c3b2a23\",\"url\":\"https://www.nytimes.com/2020/05/24/us/cdc-coronavirus-rats.html\",\"id\":100000007154967,\"asset_id\":100000007154967,\"source\":\"New York Times\",\"published_date\":\"2020-05-24\",\"updated\":\"2020-05-26 10:49:30\",\"section\":\"U.S.\",\"subsection\":\"\",\"nytdsection\":\"u.s.\",\"adx_keywords\":\"Rats;Coronavirus (2019-nCoV);Rodents;Restaurants;Coronavirus Reopenings;Shutdowns (Institutional);Waste Materials and Disposal;Centers for Disease Control and Prevention\",\"column\":null,\"byline\":\"By Mariel Padilla\",\"type\":\"Article\",\"title\":\"C.D.C. Warns of ‘Aggressive’ Rats Searching for Food During Shutdowns\",\"abstract\":\"“They’re simply turning on each other” after being deprived of food and waste generated by restaurants that have closed during the pandemic, an expert said.\",\"des_facet\":[\"Rats\",\"Coronavirus (2019-nCoV)\",\"Rodents\",\"Restaurants\",\"Coronavirus Reopenings\",\"Shutdowns (Institutional)\",\"Waste Materials and Disposal\"],\"org_facet\":[\"Centers for Disease Control and Prevention\"],\"per_facet\":[],\"geo_facet\":[],\"media\":[{\"type\":\"image\",\"subtype\":\"photo\",\"caption\":\"Whether in rural America or in urban areas, people who don’t ordinarily see rats might start noticing them.\",\"copyright\":\"Damon Winter/The New York Times\",\"approved_for_syndication\":1,\"media-metadata\":[{\"url\":\"https://static01.nyt.com/images/2020/05/24/multimedia/24xp-virus-rats-pix/24xp-virus-rats-pix-thumbStandard.jpg\",\"format\":\"Standard Thumbnail\",\"height\":75,\"width\":75},{\"url\":\"https://static01.nyt.com/images/2020/05/24/multimedia/24xp-virus-rats-pix/24xp-virus-rats-pix-mediumThreeByTwo210.jpg\",\"format\":\"mediumThreeByTwo210\",\"height\":140,\"width\":210},{\"url\":\"https://static01.nyt.com/images/2020/05/24/multimedia/24xp-virus-rats-pix/24xp-virus-rats-pix-mediumThreeByTwo440.jpg\",\"format\":\"mediumThreeByTwo440\",\"height\":293,\"width\":440}]}],\"eta_id\":0},{\"uri\":\"nyt://article/50d35411-8735-50df-a2e2-ffdbd2724008\",\"url\":\"https://www.nytimes.com/2020/05/26/us/coronavirus-california-economy.html\",\"id\":100000007138734,\"asset_id\":100000007138734,\"source\":\"New York Times\",\"published_date\":\"2020-05-26\",\"updated\":\"2020-05-26 20:41:34\",\"section\":\"U.S.\",\"subsection\":\"\",\"nytdsection\":\"u.s.\",\"adx_keywords\":\"Recession and Depression;Budgets and Budgeting;Economic Conditions and Trends;Unemployment;Travel and Vacations;Movies;Colleges and Universities;Brown, Edmund G Jr;Newsom, Gavin;Iger, Robert A;Davis, Joseph Graham Jr;Wilson, Pete;Schwarzenegger, Arnold;California\",\"column\":null,\"byline\":\"By Tim Arango and Thomas Fuller\",\"type\":\"Article\",\"title\":\"The Price of a Virus Lockdown: Economic ‘Free Fall’ in California\",\"abstract\":\"California’s strengths — as a hub for commerce, tourism and education in the Pacific Rim — have become liabilities in the pandemic.\",\"des_facet\":[\"Recession and Depression\",\"Budgets and Budgeting\",\"Economic Conditions and Trends\",\"Unemployment\",\"Travel and Vacations\",\"Movies\",\"Colleges and Universities\"],\"org_facet\":[],\"per_facet\":[\"Brown, Edmund G Jr\",\"Newsom, Gavin\",\"Iger, Robert A\",\"Davis, Joseph Graham Jr\",\"Wilson, Pete\",\"Schwarzenegger, Arnold\"],\"geo_facet\":[\"California\"],\"media\":[{\"type\":\"image\",\"subtype\":\"photo\",\"caption\":\"Napa’s Main Street in mid-May. Before the pandemic, California made more money from tourism than any other state.\",\"copyright\":\"Jim Wilson/The New York Times\",\"approved_for_syndication\":1,\"media-metadata\":[{\"url\":\"https://static01.nyt.com/images/2020/05/18/us/00virus-calecon-top/00virus-calecon-top-thumbStandard.jpg\",\"format\":\"Standard Thumbnail\",\"height\":75,\"width\":75},{\"url\":\"https://static01.nyt.com/images/2020/05/18/us/00virus-calecon-top/00virus-calecon-top-mediumThreeByTwo210-v2.jpg\",\"format\":\"mediumThreeByTwo210\",\"height\":140,\"width\":210},{\"url\":\"https://static01.nyt.com/images/2020/05/18/us/00virus-calecon-top/00virus-calecon-top-mediumThreeByTwo440-v2.jpg\",\"format\":\"mediumThreeByTwo440\",\"height\":293,\"width\":440}]}],\"eta_id\":0},{\"uri\":\"nyt://article/47ad0c58-6e38-55b7-88ef-072266a3d0a0\",\"url\":\"https://www.nytimes.com/2020/05/26/us/coronavirus-live-updates.html\",\"id\":100000007156249,\"asset_id\":100000007156249,\"source\":\"New York Times\",\"published_date\":\"2020-05-26\",\"updated\":\"2020-05-27 05:26:12\",\"section\":\"U.S.\",\"subsection\":\"\",\"nytdsection\":\"u.s.\",\"adx_keywords\":\"Coronavirus (2019-nCoV)\",\"column\":null,\"byline\":\"\",\"type\":\"Article\",\"title\":\"Emergency Child Hunger Program Is Far Behind on Rollout\",\"abstract\":\"About a dozen states are seeing an uptick in cases, and California is in “economic free fall” after its early shutdown.\",\"des_facet\":[\"Coronavirus (2019-nCoV)\"],\"org_facet\":[],\"per_facet\":[],\"geo_facet\":[],\"media\":[{\"type\":\"image\",\"subtype\":\"photo\",\"caption\":\"A volunteer distributed meals to families this month in Sullivan County, N.Y.\",\"copyright\":\"Michelle V. Agins/The New York Times\",\"approved_for_syndication\":1,\"media-metadata\":[{\"url\":\"https://static01.nyt.com/images/2020/05/26/world/26virus-us-briefing-meals-sub3/26virus-us-briefing-meals-sub3-thumbStandard.jpg\",\"format\":\"Standard Thumbnail\",\"height\":75,\"width\":75},{\"url\":\"https://static01.nyt.com/images/2020/05/26/world/26virus-us-briefing-meals-sub3/26virus-us-briefing-meals-sub3-mediumThreeByTwo210.jpg\",\"format\":\"mediumThreeByTwo210\",\"height\":140,\"width\":210},{\"url\":\"https://static01.nyt.com/images/2020/05/26/world/26virus-us-briefing-meals-sub3/26virus-us-briefing-meals-sub3-mediumThreeByTwo440.jpg\",\"format\":\"mediumThreeByTwo440\",\"height\":293,\"width\":440}]}],\"eta_id\":0},{\"uri\":\"nyt://article/6eb23c8e-4b61-5013-9668-2da9efc6bb6a\",\"url\":\"https://www.nytimes.com/2020/05/25/sports/ncaafootball/michigan-football-sex-abuse.html\",\"id\":100000007120968,\"asset_id\":100000007120968,\"source\":\"New York Times\",\"published_date\":\"2020-05-25\",\"updated\":\"2020-05-26 12:03:58\",\"section\":\"Sports\",\"subsection\":\"College Football\",\"nytdsection\":\"sports\",\"adx_keywords\":\"Football (College);Tests (Medical);Prostate Cancer;Sex Crimes;Doctors;Anderson, Robert E (1928-2008);University of Michigan\",\"column\":null,\"byline\":\"By Alan Blinder\",\"type\":\"Article\",\"title\":\"He Thought He Was Getting Football Physicals. He Was Being Abused.\",\"abstract\":\"Chuck Christian played on some of Michigan’s best teams. More than 40 years later, he sees a connection between a university doctor’s assaults and a dire prognosis.\",\"des_facet\":[\"Football (College)\",\"Tests (Medical)\",\"Prostate Cancer\",\"Sex Crimes\",\"Doctors\"],\"org_facet\":[\"University of Michigan\"],\"per_facet\":[\"Anderson, Robert E (1928-2008)\"],\"geo_facet\":[],\"media\":[{\"type\":\"image\",\"subtype\":\"photo\",\"caption\":\"Chuck Christian near his home in a suburb south of Boston.\\xa0\",\"copyright\":\"Tony Luong for The New York Times\",\"approved_for_syndication\":1,\"media-metadata\":[{\"url\":\"https://static01.nyt.com/images/2020/05/24/sports/24michigan-1/24michigan-1-thumbStandard.jpg\",\"format\":\"Standard Thumbnail\",\"height\":75,\"width\":75},{\"url\":\"https://static01.nyt.com/images/2020/05/24/sports/24michigan-1/24michigan-1-mediumThreeByTwo210.jpg\",\"format\":\"mediumThreeByTwo210\",\"height\":140,\"width\":210},{\"url\":\"https://static01.nyt.com/images/2020/05/24/sports/24michigan-1/24michigan-1-mediumThreeByTwo440.jpg\",\"format\":\"mediumThreeByTwo440\",\"height\":293,\"width\":440}]}],\"eta_id\":0},{\"uri\":\"nyt://article/abff6ca6-7529-5c61-a673-e9b644855e6a\",\"url\":\"https://www.nytimes.com/2020/05/25/opinion/joe-rogan-spotify-podcast.html\",\"id\":100000007152968,\"asset_id\":100000007152968,\"source\":\"New York Times\",\"published_date\":\"2020-05-25\",\"updated\":\"2020-05-26 17:07:20\",\"section\":\"Opinion\",\"subsection\":\"\",\"nytdsection\":\"opinion\",\"adx_keywords\":\"Podcasts;Mergers, Acquisitions and Divestitures;Rogan, Joe;Spotify\",\"column\":null,\"byline\":\"By Bari Weiss\",\"type\":\"Article\",\"title\":\"Joe Rogan Is the New Mainstream Media\",\"abstract\":\"Talking to the podcasting king about his monster Spotify deal.\",\"des_facet\":[\"Podcasts\",\"Mergers, Acquisitions and Divestitures\"],\"org_facet\":[\"Spotify\"],\"per_facet\":[\"Rogan, Joe\"],\"geo_facet\":[],\"media\":[{\"type\":\"image\",\"subtype\":\"photo\",\"caption\":\"Joe Rogan during an appearance at The Ice House Comedy Club in Pasadena, Calif., on April 17, 2019\",\"copyright\":\"Michael S. Schwartz/Getty Images\",\"approved_for_syndication\":1,\"media-metadata\":[{\"url\":\"https://static01.nyt.com/images/2020/05/25/opinion/25Weiss/25Weiss-thumbStandard.jpg\",\"format\":\"Standard Thumbnail\",\"height\":75,\"width\":75},{\"url\":\"https://static01.nyt.com/images/2020/05/25/opinion/25Weiss/25Weiss-mediumThreeByTwo210.jpg\",\"format\":\"mediumThreeByTwo210\",\"height\":140,\"width\":210},{\"url\":\"https://static01.nyt.com/images/2020/05/25/opinion/25Weiss/25Weiss-mediumThreeByTwo440.jpg\",\"format\":\"mediumThreeByTwo440\",\"height\":293,\"width\":440}]}],\"eta_id\":0},{\"uri\":\"nyt://article/13f68c27-3566-5d99-a6f8-3d4afb2d0223\",\"url\":\"https://www.nytimes.com/2020/05/26/opinion/notre-dame-university-coronavirus.html\",\"id\":100000007153274,\"asset_id\":100000007153274,\"source\":\"New York Times\",\"published_date\":\"2020-05-26\",\"updated\":\"2020-05-27 02:09:13\",\"section\":\"Opinion\",\"subsection\":\"\",\"nytdsection\":\"opinion\",\"adx_keywords\":\"Coronavirus (2019-nCoV);Colleges and Universities;Coronavirus Reopenings;Fauci, Anthony S;Roman Catholic Church;South Bend (Ind)\",\"column\":null,\"byline\":\"By John I. Jenkins\",\"type\":\"Article\",\"title\":\"We’re Reopening Notre Dame. It’s Worth the Risk.\",\"abstract\":\"Informed by the best medical advice we can find, we believe we can keep our campus environment healthy.\",\"des_facet\":[\"Coronavirus (2019-nCoV)\",\"Colleges and Universities\",\"Coronavirus Reopenings\"],\"org_facet\":[\"Roman Catholic Church\"],\"per_facet\":[\"Fauci, Anthony S\"],\"geo_facet\":[\"South Bend (Ind)\"],\"media\":[{\"type\":\"image\",\"subtype\":\"photo\",\"caption\":\"The Main Building on the campus of the University of Notre Dame in 2017.\",\"copyright\":\"Nova Safo/Agence France-Presse — Getty Images\",\"approved_for_syndication\":1,\"media-metadata\":[{\"url\":\"https://static01.nyt.com/images/2020/05/26/opinion/26jenkins1/26jenkins1-thumbStandard.jpg\",\"format\":\"Standard Thumbnail\",\"height\":75,\"width\":75},{\"url\":\"https://static01.nyt.com/images/2020/05/26/opinion/26jenkins1/26jenkins1-mediumThreeByTwo210.jpg\",\"format\":\"mediumThreeByTwo210\",\"height\":140,\"width\":210},{\"url\":\"https://static01.nyt.com/images/2020/05/26/opinion/26jenkins1/26jenkins1-mediumThreeByTwo440.jpg\",\"format\":\"mediumThreeByTwo440\",\"height\":293,\"width\":440}]}],\"eta_id\":0},{\"uri\":\"nyt://article/2e5593f3-23a4-5f1a-aab1-960c9c4564d1\",\"url\":\"https://www.nytimes.com/2020/05/25/opinion/coronavirus-race-obesity.html\",\"id\":100000007140173,\"asset_id\":100000007140173,\"source\":\"New York Times\",\"published_date\":\"2020-05-25\",\"updated\":\"2020-05-25 20:20:14\",\"section\":\"Opinion\",\"subsection\":\"\",\"nytdsection\":\"opinion\",\"adx_keywords\":\"Black People;Race and Ethnicity;Coronavirus (2019-nCoV);Obesity;Diet and Nutrition;Longevity;Deaths (Fatalities);United States\",\"column\":null,\"byline\":\"By Sabrina Strings\",\"type\":\"Article\",\"title\":\"It’s Not Obesity. It’s Slavery.\",\"abstract\":\"We know why Covid-19 is killing so many black people.\",\"des_facet\":[\"Black People\",\"Race and Ethnicity\",\"Coronavirus (2019-nCoV)\",\"Obesity\",\"Diet and Nutrition\",\"Longevity\",\"Deaths (Fatalities)\"],\"org_facet\":[],\"per_facet\":[],\"geo_facet\":[\"United States\"],\"media\":[{\"type\":\"image\",\"subtype\":\"photo\",\"caption\":\"People waiting for a distribution of masks and food in Harlem, New York City.\",\"copyright\":\"Bebeto Matthews/Associated Press\",\"approved_for_syndication\":1,\"media-metadata\":[{\"url\":\"https://static01.nyt.com/images/2020/05/25/opinion/25Strings/25Strings-thumbStandard.jpg\",\"format\":\"Standard Thumbnail\",\"height\":75,\"width\":75},{\"url\":\"https://static01.nyt.com/images/2020/05/25/opinion/25Strings/25Strings-mediumThreeByTwo210.jpg\",\"format\":\"mediumThreeByTwo210\",\"height\":140,\"width\":210},{\"url\":\"https://static01.nyt.com/images/2020/05/25/opinion/25Strings/25Strings-mediumThreeByTwo440.jpg\",\"format\":\"mediumThreeByTwo440\",\"height\":293,\"width\":440}]}],\"eta_id\":0},{\"uri\":\"nyt://article/9c8bc7dd-ea8a-5544-b590-9c448c15181b\",\"url\":\"https://www.nytimes.com/2020/05/26/us/lake-of-the-ozarks-coronavirus.html\",\"id\":100000007157061,\"asset_id\":100000007157061,\"source\":\"New York Times\",\"published_date\":\"2020-05-26\",\"updated\":\"2020-05-26 23:39:10\",\"section\":\"U.S.\",\"subsection\":\"\",\"nytdsection\":\"u.s.\",\"adx_keywords\":\"Coronavirus (2019-nCoV);Coronavirus Reopenings;Krewson, Lyda;Parson, Michael L;Ozark Mountains;Missouri\",\"column\":null,\"byline\":\"By Jacey Fortin and Johnny Diaz\",\"type\":\"Article\",\"title\":\"After Crowding at Lake of the Ozarks, Missouri Officials Urge Quarantine\",\"abstract\":\"“It’s irresponsible and dangerous to engage in such high risk behavior just to have some fun over the extended holiday weekend,” said the mayor of St. Louis.\",\"des_facet\":[\"Coronavirus (2019-nCoV)\",\"Coronavirus Reopenings\"],\"org_facet\":[],\"per_facet\":[\"Krewson, Lyda\",\"Parson, Michael L\"],\"geo_facet\":[\"Ozark Mountains\",\"Missouri\"],\"media\":[{\"type\":\"image\",\"subtype\":\"photo\",\"caption\":\"People celebrated Memorial Day weekend at Lake of the Ozarks in Missouri.\",\"copyright\":\"Twitter/Lawler50, via Reuters\",\"approved_for_syndication\":1,\"media-metadata\":[{\"url\":\"https://static01.nyt.com/images/2020/05/26/us/26xp-virus-ozarks/26xp-virus-ozarks-thumbStandard.jpg\",\"format\":\"Standard Thumbnail\",\"height\":75,\"width\":75},{\"url\":\"https://static01.nyt.com/images/2020/05/26/us/26xp-virus-ozarks/26xp-virus-ozarks-mediumThreeByTwo210.jpg\",\"format\":\"mediumThreeByTwo210\",\"height\":140,\"width\":210},{\"url\":\"https://static01.nyt.com/images/2020/05/26/us/26xp-virus-ozarks/26xp-virus-ozarks-mediumThreeByTwo440.jpg\",\"format\":\"mediumThreeByTwo440\",\"height\":293,\"width\":440}]}],\"eta_id\":0},{\"uri\":\"nyt://article/4154be08-a296-5881-8342-e9f223dc484c\",\"url\":\"https://www.nytimes.com/2020/05/26/world/coronavirus-news.html\",\"id\":100000007156258,\"asset_id\":100000007156258,\"source\":\"New York Times\",\"published_date\":\"2020-05-26\",\"updated\":\"2020-05-27 02:18:14\",\"section\":\"World\",\"subsection\":\"\",\"nytdsection\":\"world\",\"adx_keywords\":\"Coronavirus (2019-nCoV)\",\"column\":null,\"byline\":\"\",\"type\":\"Article\",\"title\":\"2 Weeks, 6.5 Million Coronavirus Tests as Wuhan Nears Goal\",\"abstract\":\"The Chinese city where the outbreak began is seeking to test all its 11 million residents, and the pandemic has forced the fashion industry to take a hard look in the mirror.\",\"des_facet\":[\"Coronavirus (2019-nCoV)\"],\"org_facet\":[],\"per_facet\":[],\"geo_facet\":[],\"media\":[{\"type\":\"image\",\"subtype\":\"photo\",\"caption\":\"A coronavirus testing station in Wuhan earlier this month.\",\"copyright\":\"Agence France-Presse — Getty Images\",\"approved_for_syndication\":1,\"media-metadata\":[{\"url\":\"https://static01.nyt.com/images/2020/05/26/world/26virus-int-briefing-wuhan2/merlin_172527423_568c46a1-8dfb-429a-b5dd-21267f975d69-thumbStandard.jpg\",\"format\":\"Standard Thumbnail\",\"height\":75,\"width\":75},{\"url\":\"https://static01.nyt.com/images/2020/05/26/world/26virus-int-briefing-wuhan2/merlin_172527423_568c46a1-8dfb-429a-b5dd-21267f975d69-mediumThreeByTwo210.jpg\",\"format\":\"mediumThreeByTwo210\",\"height\":140,\"width\":210},{\"url\":\"https://static01.nyt.com/images/2020/05/26/world/26virus-int-briefing-wuhan2/merlin_172527423_568c46a1-8dfb-429a-b5dd-21267f975d69-mediumThreeByTwo440.jpg\",\"format\":\"mediumThreeByTwo440\",\"height\":293,\"width\":440}]}],\"eta_id\":0},{\"uri\":\"nyt://article/be45ff36-c1a4-5668-bc81-bb7c9e597fdd\",\"url\":\"https://www.nytimes.com/2020/05/26/us/george-floyd-minneapolis-police.html\",\"id\":100000007157766,\"asset_id\":100000007157766,\"source\":\"New York Times\",\"published_date\":\"2020-05-26\",\"updated\":\"2020-05-27 09:30:27\",\"section\":\"U.S.\",\"subsection\":\"\",\"nytdsection\":\"u.s.\",\"adx_keywords\":\"Police Brutality, Misconduct and Shootings;Video Recordings, Downloads and Streaming;Black People;Racial Profiling;Arbery, Ahmaud (1994-2020);Cooper, Amy (May 25, 2020 Central Park Incident);Floyd, George (d 2020);Cooper, Christian (Birder);Minneapolis (Minn);Manhattan (NYC);Brunswick (Ga)\",\"column\":null,\"byline\":\"By Audra D. S. Burch and John Eligon\",\"type\":\"Article\",\"title\":\"Bystander Videos of George Floyd and Others Are Policing the Police\",\"abstract\":\"The initial police account of the death of a Minneapolis man did not mention that an officer’s knee pinned him to the ground. “Please, I can’t breathe,” he said.\",\"des_facet\":[\"Police Brutality, Misconduct and Shootings\",\"Video Recordings, Downloads and Streaming\",\"Black People\",\"Racial Profiling\"],\"org_facet\":[],\"per_facet\":[\"Arbery, Ahmaud (1994-2020)\",\"Cooper, Amy (May 25, 2020 Central Park Incident)\",\"Floyd, George (d 2020)\",\"Cooper, Christian (Birder)\"],\"geo_facet\":[\"Minneapolis (Minn)\",\"Manhattan (NYC)\",\"Brunswick (Ga)\"],\"media\":[{\"type\":\"image\",\"subtype\":\"photo\",\"caption\":\"A memorial in Minneapolis for George Floyd, who died after being taken into custody by the police. A bystander’s video shared widely on Tuesday showed an officer pressing his knee into Mr. Floyd’s neck.\",\"copyright\":\"Elizabeth Flores/Star Tribune, via Associated Press\",\"approved_for_syndication\":1,\"media-metadata\":[{\"url\":\"https://static01.nyt.com/images/2020/05/26/us/26rawvideo-01/26rawvideo-01-thumbStandard.jpg\",\"format\":\"Standard Thumbnail\",\"height\":75,\"width\":75},{\"url\":\"https://static01.nyt.com/images/2020/05/26/us/26rawvideo-01/26rawvideo-01-mediumThreeByTwo210.jpg\",\"format\":\"mediumThreeByTwo210\",\"height\":140,\"width\":210},{\"url\":\"https://static01.nyt.com/images/2020/05/26/us/26rawvideo-01/26rawvideo-01-mediumThreeByTwo440.jpg\",\"format\":\"mediumThreeByTwo440\",\"height\":293,\"width\":440}]}],\"eta_id\":0},{\"uri\":\"nyt://article/67cd2ecd-9e59-5cc3-aa14-eb30cd1b2906\",\"url\":\"https://www.nytimes.com/es/2020/04/21/espanol/estilos-de-vida/coronavirus-ropa-contagio-pelo-zapatos-periodico-infeccion.html\",\"id\":100000007097949,\"asset_id\":100000007097949,\"source\":\"New York Times\",\"published_date\":\"2020-04-21\",\"updated\":\"2020-04-23 17:39:27\",\"section\":\"en Español\",\"subsection\":\"Estilos de Vida\",\"nytdsection\":\"en español\",\"adx_keywords\":\"Coronavirus (2019-nCoV);Hygiene and Cleanliness;Laundry and Laundromats;Quarantine (Life and Culture);Quarantines\",\"column\":null,\"byline\":\"By Tara Parker-Pope\",\"type\":\"Article\",\"title\":\"¿El virus está en mi ropa? ¿En mis zapatos? ¿En mi pelo? ¿En mi periódico?\",\"abstract\":\"Preguntamos a los expertos sobre todos los lugares donde el coronavirus acecha (o no). Te sentirás mejor después de leer esto.\",\"des_facet\":[\"Coronavirus (2019-nCoV)\",\"Hygiene and Cleanliness\",\"Laundry and Laundromats\",\"Quarantine (Life and Culture)\",\"Quarantines\"],\"org_facet\":[],\"per_facet\":[],\"geo_facet\":[],\"media\":[{\"type\":\"image\",\"subtype\":\"photo\",\"caption\":\"\",\"copyright\":\"iStock\",\"approved_for_syndication\":1,\"media-metadata\":[{\"url\":\"https://static01.nyt.com/images/2020/04/19/well/19askwell-coronavirus-clothing-copy/well-shoes-thumbStandard.jpg\",\"format\":\"Standard Thumbnail\",\"height\":75,\"width\":75},{\"url\":\"https://static01.nyt.com/images/2020/04/19/well/19askwell-coronavirus-clothing-copy/well-shoes-mediumThreeByTwo210.jpg\",\"format\":\"mediumThreeByTwo210\",\"height\":140,\"width\":210},{\"url\":\"https://static01.nyt.com/images/2020/04/19/well/19askwell-coronavirus-clothing-copy/well-shoes-mediumThreeByTwo440.jpg\",\"format\":\"mediumThreeByTwo440\",\"height\":293,\"width\":440}]}],\"eta_id\":0},{\"uri\":\"nyt://article/16cbf17f-97a1-5e63-a21e-cff089e834e2\",\"url\":\"https://www.nytimes.com/2020/05/25/realestate/the-7-things-you-need-for-an-ergonomic-workstation.html\",\"id\":100000007149429,\"asset_id\":100000007149429,\"source\":\"New York Times\",\"published_date\":\"2020-05-25\",\"updated\":\"2020-05-26 17:51:58\",\"section\":\"Real Estate\",\"subsection\":\"\",\"nytdsection\":\"real estate\",\"adx_keywords\":\"Ergonomics;Real Estate and Housing (Residential);Chairs;Computer Keyboards;Quarantine (Life and Culture);Headphones and Headsets\",\"column\":null,\"byline\":\"By Melanie Pinola\",\"type\":\"Article\",\"title\":\"The 7 Things You Need for an Ergonomic Workstation\",\"abstract\":\"If you’re working from home indefinitely, it may be time to upgrade that home office.\",\"des_facet\":[\"Ergonomics\",\"Real Estate and Housing (Residential)\",\"Chairs\",\"Computer Keyboards\",\"Quarantine (Life and Culture)\",\"Headphones and Headsets\"],\"org_facet\":[],\"per_facet\":[],\"geo_facet\":[],\"media\":[{\"type\":\"image\",\"subtype\":\"photo\",\"caption\":\"An ergonomic workstation ensures that your neck isn’t bent back or down, your arms aren’t lifted or extended outward, your wrists and hands aren’t bent up or sideways, and your spine isn’t twisted.\",\"copyright\":\"Kyle Fitzgerald\",\"approved_for_syndication\":1,\"media-metadata\":[{\"url\":\"https://static01.nyt.com/images/2020/05/25/realestate/25wirecutter-homeoffice4/25wirecutter-homeoffice4-thumbStandard.jpg\",\"format\":\"Standard Thumbnail\",\"height\":75,\"width\":75},{\"url\":\"https://static01.nyt.com/images/2020/05/25/realestate/25wirecutter-homeoffice4/25wirecutter-homeoffice4-mediumThreeByTwo210.jpg\",\"format\":\"mediumThreeByTwo210\",\"height\":140,\"width\":210},{\"url\":\"https://static01.nyt.com/images/2020/05/25/realestate/25wirecutter-homeoffice4/25wirecutter-homeoffice4-mediumThreeByTwo440.jpg\",\"format\":\"mediumThreeByTwo440\",\"height\":293,\"width\":440}]}],\"eta_id\":0}]}'"
      ]
     },
     "execution_count": 66,
     "metadata": {},
     "output_type": "execute_result"
    }
   ],
   "source": [
    "r2.text"
   ]
  },
  {
   "cell_type": "code",
   "execution_count": 131,
   "metadata": {
    "ExecuteTime": {
     "end_time": "2020-05-27T15:07:40.966775Z",
     "start_time": "2020-05-27T15:07:40.950680Z"
    }
   },
   "outputs": [],
   "source": [
    "def nyt_headline_finder(r):\n",
    "    #takes in r, the API response, and evaluates the text, returning a list of the headlines contained\n",
    "    dirty_headlines_list = []\n",
    "    cleaner_headlines_list = []\n",
    "    clean_headlines_list = []\n",
    "    results = r.text.split(\"results\")\n",
    "    \n",
    "    messy_headlines = results[2].split(\"title\")\n",
    "    messy_headlines.pop(0)\n",
    "    messy_headlines\n",
    "    for x in messy_headlines:\n",
    "        dirty_headlines = x.split(\"title\")\n",
    "        dirty_headlines_list.append(dirty_headlines[0])\n",
    "\n",
    "    for x in dirty_headlines_list:\n",
    "        dirty_headlines2 = x.split(\":\")\n",
    "        dirty_headlines2[1] = dirty_headlines2[1][1:]#removes first character from the second string\n",
    "        cleaner_headlines_list.append(dirty_headlines2[1]) #removes final three characters from the second string\n",
    "    \n",
    "    for x in cleaner_headlines_list:\n",
    "        if x[-9:-1] == 'abstract':\n",
    "            clean_headlines_list.append(x[:-12])\n",
    "        else:\n",
    "            clean_headlines_list.append(x)\n",
    "            \n",
    "    return clean_headlines_list"
   ]
  },
  {
   "cell_type": "code",
   "execution_count": 120,
   "metadata": {
    "ExecuteTime": {
     "end_time": "2020-05-27T15:02:32.384950Z",
     "start_time": "2020-05-27T15:02:32.378052Z"
    }
   },
   "outputs": [],
   "source": [
    "a ='White Woman Is Fired After Calling Police on Black Man in Central Park\",\"abstract\"'"
   ]
  },
  {
   "cell_type": "code",
   "execution_count": 121,
   "metadata": {
    "ExecuteTime": {
     "end_time": "2020-05-27T15:02:32.960581Z",
     "start_time": "2020-05-27T15:02:32.947997Z"
    }
   },
   "outputs": [
    {
     "data": {
      "text/plain": [
       "'abstract'"
      ]
     },
     "execution_count": 121,
     "metadata": {},
     "output_type": "execute_result"
    }
   ],
   "source": [
    "a[-9:-1]"
   ]
  },
  {
   "cell_type": "code",
   "execution_count": 132,
   "metadata": {
    "ExecuteTime": {
     "end_time": "2020-05-27T15:07:43.246439Z",
     "start_time": "2020-05-27T15:07:43.234528Z"
    }
   },
   "outputs": [
    {
     "data": {
      "text/plain": [
       "['White Woman Is Fired After Calling Police on Black Man in Central Park',\n",
       " '‘I Can’t Breathe’',\n",
       " 'Twitter Must Cleanse the Trump Stain',\n",
       " 'Trump Pushes a Conspiracy Theory That Falsely Accuses a TV Host of Murder',\n",
       " 'Twitter Refutes Inaccuracies in Trump’s Tweets About Mail-In Voting',\n",
       " 'A Boy, a Bear and a Close Call in the Mountains of Italy',\n",
       " 'A Virus-Hunter Falls Prey to a Virus He Underestimated',\n",
       " 'The Coronavirus Is Deadliest Where Democrats Live',\n",
       " 'C.D.C. Warns of ‘Aggressive’ Rats Searching for Food During Shutdowns',\n",
       " 'The Price of a Virus Lockdown',\n",
       " 'Emergency Child Hunger Program Is Far Behind on Rollout',\n",
       " 'He Thought He Was Getting Football Physicals. He Was Being Abused.',\n",
       " 'Joe Rogan Is the New Mainstream Media',\n",
       " 'We’re Reopening Notre Dame. It’s Worth the Risk.',\n",
       " 'It’s Not Obesity. It’s Slavery.',\n",
       " 'After Crowding at Lake of the Ozarks, Missouri Officials Urge Quarantine',\n",
       " '2 Weeks, 6.5 Million Coronavirus Tests as Wuhan Nears Goal',\n",
       " 'Bystander Videos of George Floyd and Others Are Policing the Police',\n",
       " '¿El virus está en mi ropa? ¿En mis zapatos? ¿En mi pelo? ¿En mi periódico?',\n",
       " 'The 7 Things You Need for an Ergonomic Workstation']"
      ]
     },
     "execution_count": 132,
     "metadata": {},
     "output_type": "execute_result"
    }
   ],
   "source": [
    "nyt_headline_finder(r2)"
   ]
  },
  {
   "cell_type": "markdown",
   "metadata": {},
   "source": [
    "#### Financial Times (UK)"
   ]
  },
  {
   "cell_type": "markdown",
   "metadata": {},
   "source": [
    "Waiting to get back API from applicaton - chase up email sent on 27th as to why I haven't received the API Key they promised "
   ]
  },
  {
   "cell_type": "code",
   "execution_count": null,
   "metadata": {},
   "outputs": [],
   "source": []
  },
  {
   "cell_type": "code",
   "execution_count": null,
   "metadata": {},
   "outputs": [],
   "source": []
  },
  {
   "cell_type": "code",
   "execution_count": null,
   "metadata": {},
   "outputs": [],
   "source": []
  },
  {
   "cell_type": "markdown",
   "metadata": {},
   "source": [
    "### Other Publications/APIs"
   ]
  },
  {
   "cell_type": "markdown",
   "metadata": {},
   "source": [
    "#### Wayback Machine"
   ]
  },
  {
   "cell_type": "code",
   "execution_count": null,
   "metadata": {},
   "outputs": [],
   "source": []
  },
  {
   "cell_type": "code",
   "execution_count": null,
   "metadata": {},
   "outputs": [],
   "source": []
  },
  {
   "cell_type": "code",
   "execution_count": null,
   "metadata": {},
   "outputs": [],
   "source": []
  },
  {
   "cell_type": "code",
   "execution_count": null,
   "metadata": {},
   "outputs": [],
   "source": []
  },
  {
   "cell_type": "code",
   "execution_count": null,
   "metadata": {},
   "outputs": [],
   "source": []
  },
  {
   "cell_type": "markdown",
   "metadata": {},
   "source": [
    "## Data Understanding"
   ]
  },
  {
   "cell_type": "code",
   "execution_count": null,
   "metadata": {},
   "outputs": [],
   "source": []
  },
  {
   "cell_type": "markdown",
   "metadata": {},
   "source": [
    "## Data Preparation"
   ]
  },
  {
   "cell_type": "code",
   "execution_count": null,
   "metadata": {},
   "outputs": [],
   "source": []
  },
  {
   "cell_type": "markdown",
   "metadata": {},
   "source": [
    "## Modelling"
   ]
  },
  {
   "cell_type": "code",
   "execution_count": null,
   "metadata": {},
   "outputs": [],
   "source": []
  },
  {
   "cell_type": "markdown",
   "metadata": {},
   "source": [
    "## Evaluation"
   ]
  },
  {
   "cell_type": "code",
   "execution_count": null,
   "metadata": {},
   "outputs": [],
   "source": []
  },
  {
   "cell_type": "markdown",
   "metadata": {},
   "source": [
    "## Deployment/Iteration 2"
   ]
  },
  {
   "cell_type": "code",
   "execution_count": null,
   "metadata": {},
   "outputs": [],
   "source": []
  },
  {
   "cell_type": "markdown",
   "metadata": {},
   "source": [
    "## Conclusions"
   ]
  },
  {
   "cell_type": "code",
   "execution_count": null,
   "metadata": {},
   "outputs": [],
   "source": []
  }
 ],
 "metadata": {
  "kernelspec": {
   "display_name": "Python 3",
   "language": "python",
   "name": "python3"
  },
  "language_info": {
   "codemirror_mode": {
    "name": "ipython",
    "version": 3
   },
   "file_extension": ".py",
   "mimetype": "text/x-python",
   "name": "python",
   "nbconvert_exporter": "python",
   "pygments_lexer": "ipython3",
   "version": "3.7.4"
  },
  "toc": {
   "base_numbering": 1,
   "nav_menu": {},
   "number_sections": true,
   "sideBar": true,
   "skip_h1_title": false,
   "title_cell": "Table of Contents",
   "title_sidebar": "Contents",
   "toc_cell": false,
   "toc_position": {},
   "toc_section_display": true,
   "toc_window_display": true
  }
 },
 "nbformat": 4,
 "nbformat_minor": 2
}
