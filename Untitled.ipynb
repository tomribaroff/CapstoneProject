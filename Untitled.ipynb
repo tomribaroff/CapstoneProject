{
 "cells": [
  {
   "cell_type": "code",
   "execution_count": 9,
   "metadata": {
    "ExecuteTime": {
     "end_time": "2020-06-09T10:12:34.584694Z",
     "start_time": "2020-06-09T10:12:30.829991Z"
    }
   },
   "outputs": [],
   "source": [
    "import pandas as pd\n",
    "import tradingeconomics as te\n",
    "import json\n",
    "import yfinance as yf\n",
    "import numpy as np\n",
    "import seaborn as sns\n",
    "import matplotlib.pyplot as plt\n",
    "import dateutil\n",
    "from datetime import datetime\n",
    "import requests\n",
    "from pandas_datareader import data as dr\n",
    "import pandas_datareader\n",
    "import time"
   ]
  },
  {
   "cell_type": "code",
   "execution_count": 10,
   "metadata": {
    "ExecuteTime": {
     "end_time": "2020-06-09T10:12:34.679935Z",
     "start_time": "2020-06-09T10:12:34.589368Z"
    }
   },
   "outputs": [],
   "source": [
    "#creating df, for now keeping string representation of dates as well as datetime, for ease of use\n",
    "df1 = pd.DataFrame(columns=['Dates','Guardian','NYT','FT'])\n",
    "df1.Dates = pd.date_range('2010-01-01','2019-12-31')\n",
    "df1.Dates = df1.Dates.astype(str)\n",
    "\n",
    "df2 = df1.Dates.str.split(\"-\",expand=True)\n",
    "df2.columns=['Day','Month','Year']\n",
    "Headlines = pd.concat([df2,df1],axis=1)\n",
    "# Headlines.Dates = pd.date_range('2010-01-01','2019-12-31')"
   ]
  },
  {
   "cell_type": "code",
   "execution_count": 11,
   "metadata": {
    "ExecuteTime": {
     "end_time": "2020-06-09T10:12:34.691222Z",
     "start_time": "2020-06-09T10:12:34.682595Z"
    }
   },
   "outputs": [],
   "source": [
    "Headlines.Dates = Headlines.Dates.astype(str)"
   ]
  },
  {
   "cell_type": "code",
   "execution_count": 12,
   "metadata": {
    "ExecuteTime": {
     "end_time": "2020-06-09T10:12:42.104161Z",
     "start_time": "2020-06-09T10:12:42.077109Z"
    }
   },
   "outputs": [
    {
     "name": "stdout",
     "output_type": "stream",
     "text": [
      "<class 'pandas.core.frame.DataFrame'>\n",
      "RangeIndex: 3652 entries, 0 to 3651\n",
      "Data columns (total 7 columns):\n",
      "Day         3652 non-null object\n",
      "Month       3652 non-null object\n",
      "Year        3652 non-null object\n",
      "Dates       3652 non-null object\n",
      "Guardian    0 non-null object\n",
      "NYT         0 non-null object\n",
      "FT          0 non-null object\n",
      "dtypes: object(7)\n",
      "memory usage: 199.8+ KB\n"
     ]
    }
   ],
   "source": [
    "Headlines.info()"
   ]
  },
  {
   "cell_type": "code",
   "execution_count": 14,
   "metadata": {
    "ExecuteTime": {
     "end_time": "2020-06-09T10:13:38.254738Z",
     "start_time": "2020-06-09T10:13:38.246669Z"
    }
   },
   "outputs": [
    {
     "data": {
      "text/plain": [
       "float"
      ]
     },
     "execution_count": 14,
     "metadata": {},
     "output_type": "execute_result"
    }
   ],
   "source": [
    "type(Headlines.Guardian[0])"
   ]
  },
  {
   "cell_type": "code",
   "execution_count": null,
   "metadata": {},
   "outputs": [],
   "source": []
  }
 ],
 "metadata": {
  "kernelspec": {
   "display_name": "Python 3",
   "language": "python",
   "name": "python3"
  },
  "language_info": {
   "codemirror_mode": {
    "name": "ipython",
    "version": 3
   },
   "file_extension": ".py",
   "mimetype": "text/x-python",
   "name": "python",
   "nbconvert_exporter": "python",
   "pygments_lexer": "ipython3",
   "version": "3.7.4"
  },
  "toc": {
   "base_numbering": 1,
   "nav_menu": {},
   "number_sections": true,
   "sideBar": true,
   "skip_h1_title": false,
   "title_cell": "Table of Contents",
   "title_sidebar": "Contents",
   "toc_cell": false,
   "toc_position": {},
   "toc_section_display": true,
   "toc_window_display": false
  }
 },
 "nbformat": 4,
 "nbformat_minor": 2
}
