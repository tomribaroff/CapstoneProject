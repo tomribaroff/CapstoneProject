{
 "cells": [
  {
   "cell_type": "markdown",
   "metadata": {},
   "source": [
    "# Useful Code not used in final project"
   ]
  },
  {
   "cell_type": "markdown",
   "metadata": {},
   "source": [
    "### Extracting relevant values from CSV file of FTSE Intraday Prices"
   ]
  },
  {
   "cell_type": "markdown",
   "metadata": {},
   "source": [
    "Csv file of FTSE prices every 5 minutes from the year 2000 was sourced from Backtest Market. The file given was a messy text file, that required cleaning to be useful. Notably, the times quoted were all over the place, on Chicago time and making no note of daylight savings changes"
   ]
  },
  {
   "cell_type": "markdown",
   "metadata": {},
   "source": [
    "Getting intraday data proved more difficult - I wanted the prices of the FTSE 5 minutes after opening, and at a few points throughout the day. To do this, I found a historical dataframe online that quoted the prices of the FTSE every 5 minutes. A large file, as you can imagine. Using it, all I have to do it parse through the document, extracting the prices that I want at the particular times, being careful to note that the times are a little tricky to get right, as this dataset it not only on Chicago time, but also doesn't do a great job of noting daylight savings times. First, let's have a closer look at this dataset"
   ]
  },
  {
   "cell_type": "code",
   "execution_count": null,
   "metadata": {},
   "outputs": [],
   "source": [
    "intraday_data = pd.read_csv('ftse_data/ftse100-5m.csv')"
   ]
  },
  {
   "cell_type": "code",
   "execution_count": null,
   "metadata": {},
   "outputs": [],
   "source": [
    "# intraday_data.head()"
   ]
  },
  {
   "cell_type": "code",
   "execution_count": null,
   "metadata": {},
   "outputs": [],
   "source": [
    "# df1 = intraday_data['Date;Open;High;Low;Close;Adj Close;Volume'].str.split(\";\",expand=True,)\n",
    "# df1.columns=['Date','Open','High','Low','Close','Adj Close','Volume']\n",
    "# df1.head()"
   ]
  },
  {
   "cell_type": "code",
   "execution_count": null,
   "metadata": {},
   "outputs": [],
   "source": [
    "# df1.info()"
   ]
  },
  {
   "cell_type": "code",
   "execution_count": null,
   "metadata": {},
   "outputs": [],
   "source": [
    "# df1.iloc[327380:327385]"
   ]
  },
  {
   "cell_type": "markdown",
   "metadata": {},
   "source": [
    "So, the data we are looking for only starts on row 327380"
   ]
  },
  {
   "cell_type": "code",
   "execution_count": null,
   "metadata": {},
   "outputs": [],
   "source": [
    "# df2 = df1.Date.str.split(\"/\",expand=True,)\n",
    "# df2.columns=['Day','Month','Year']\n",
    "# df2.head()"
   ]
  },
  {
   "cell_type": "code",
   "execution_count": null,
   "metadata": {},
   "outputs": [],
   "source": [
    "# df = pd.concat([df2,df1],axis=1)"
   ]
  },
  {
   "cell_type": "code",
   "execution_count": null,
   "metadata": {},
   "outputs": [],
   "source": [
    "# df.head()"
   ]
  },
  {
   "cell_type": "markdown",
   "metadata": {},
   "source": [
    "So, now we have our dataframe in a format that is easier to use. There is a problem in that the prices here don't match those given to us if we were to look on Pandas Data Reader for the FTSE prices. \"Problem Solved\" - The difference here is because the Pandas Data Reader results are the values of the FTSE Index, whereas the values from our online database are the price of the futures on the FTSE. There is a slight discrepancy of price. As long as we keep everything on the same scale, the problem should be solved. So we'll derive all our prices from the database, unless we find an intraday FTSE valuation out of Pandas Data Reader. "
   ]
  },
  {
   "cell_type": "markdown",
   "metadata": {},
   "source": [
    "### Visualisations and filtering of CSV file of FTSE Intraday Prices"
   ]
  },
  {
   "cell_type": "code",
   "execution_count": null,
   "metadata": {},
   "outputs": [],
   "source": [
    "# values = pd.DataFrame(columns=['time','num_of_values'])\n",
    "# count=1\n",
    "# for y in range(2000,2020):\n",
    "#     for x in range(1,13):\n",
    "#         z = len(df.loc[(df['Year'] == y)  & (df['Month'] == x)])\n",
    "#         values.loc[count]=[int(count),int(z)]\n",
    "#         count += 1\n",
    "\n",
    "# values.time = values.time.astype('int32')\n",
    "# values.num_of_values = values.num_of_values.astype('int32')\n",
    "\n",
    "# sns.set()\n",
    "# ax = sns.lineplot(y=\"num_of_values\", x=\"time\", data=values)"
   ]
  },
  {
   "cell_type": "markdown",
   "metadata": {},
   "source": [
    "So a basic plot of our data shows that for more recent years, we have many more data points."
   ]
  },
  {
   "cell_type": "code",
   "execution_count": null,
   "metadata": {},
   "outputs": [],
   "source": [
    "# values2 = pd.DataFrame(columns=['time','num_of_days_counted'])\n",
    "# count=1\n",
    "# for y in range(2000,2020):\n",
    "#     for x in range(1,13):\n",
    "#         z = df.loc[(df['Year'] == y) & (df['Month'] == x)]\n",
    "#         days_counted = len(z.Day.unique())\n",
    "#         values2.loc[count]=[int(count),int(days_counted)]\n",
    "#         count += 1\n",
    "\n",
    "# values2.time = values2.time.astype('int32')\n",
    "# values2.num_of_days_counted = values2.num_of_days_counted.astype('int32')\n",
    "\n",
    "# sns.set()\n",
    "# ax = sns.lineplot(y=\"num_of_days_counted\", x=\"time\", data=values2)"
   ]
  },
  {
   "cell_type": "markdown",
   "metadata": {},
   "source": [
    "The maximum number of days the market can be open in a month is 23, so we have plenty data on price movements outside of the traditional open hours too! We could use this data to explore price changes on after-hours trading, but for now, let's just extract the data we originally wanted. "
   ]
  },
  {
   "cell_type": "markdown",
   "metadata": {},
   "source": [
    "Plan for now:\n",
    "\n",
    "Get list of working days from 2010 to 2019\n",
    "\n",
    "Data is on Chicago time, shift all data 6 hours head to GMT\n",
    "\n",
    "Shift data to GMT+1 according to daylight savings times \n",
    "\n",
    "Filter through all data to get times and days data you want and save in a new df "
   ]
  },
  {
   "cell_type": "markdown",
   "metadata": {},
   "source": [
    "NOTE - Getting a list of working days from 2010 to 2019 would have been made much easier just using the list of days from a Pandas Data Reader search of prices! That would give us the prices for the each of the days the FTSE was open, thereby cutting out the fiddle of making a list of all the working days. However, I made the exhaustive list using the code below:"
   ]
  },
  {
   "cell_type": "code",
   "execution_count": null,
   "metadata": {},
   "outputs": [],
   "source": [
    "# from dateutil.rrule import *\n",
    "# def daterange(start_date, end_date):\n",
    "#     return list(rrule(DAILY, dtstart=start_date, until=end_date, byweekday=(MO,TU,WE,TH,FR)))"
   ]
  },
  {
   "cell_type": "code",
   "execution_count": null,
   "metadata": {},
   "outputs": [],
   "source": [
    "# # some are kindly provided by gov.uk, but there are some missing which I will add in below \n",
    "# from govuk_bank_holidays.bank_holidays import BankHolidays\n",
    "# bank_holidays = BankHolidays()\n",
    "# count = 0\n",
    "# for bank_holiday in bank_holidays.get_holidays():\n",
    "#     if (count<30):\n",
    "#         print(bank_holiday['date'])\n",
    "#         count += 1"
   ]
  },
  {
   "cell_type": "code",
   "execution_count": null,
   "metadata": {},
   "outputs": [],
   "source": [
    "# bank_holidays = ['2010-01-01','2010-04-02','2010-04-05','2010-05-03','2010-05-31','2010-08-30','2010-12-27','2010-12-28', \\\n",
    "#                  '2011-01-03','2011-04-22','2011-04-25','2011-05-02','2011-05-30','2011-08-29','2011-12-26','2011-12-27', \\\n",
    "#                  '2012-01-02','2012-04-06','2012-04-09','2012-05-07','2012-06-04','2012-06-05','2012-08-27','2012-12-25','2012-12-26', \\\n",
    "#                  '2013-01-01','2013-03-29','2013-04-01','2013-05-06','2013-05-27','2013-08-26','2013-12-25','2013-12-26', \\\n",
    "#                  '2014-01-01','2014-04-18','2014-04-21','2014-05-06','2014-05-26','2014-08-25','2014-12-25','2014-12-26', \\\n",
    "#                  '2015-01-01','2015-04-03','2015-04-06','2015-05-04','2015-05-25','2015-08-31','2015-12-25','2015-12-28', \\\n",
    "#                  '2016-01-01','2016-03-25','2016-03-28','2016-05-02','2016-05-30','2015-08-31','2016-12-26','2016-12-27', \\\n",
    "#                  '2017-01-02','2017-04-14','2017-04-17','2017-05-01','2017-05-29','2015-08-31','2017-12-25','2017-12-26', \\\n",
    "#                  '2018-01-01','2018-03-30','2018-04-02','2018-05-07','2018-05-28','2015-08-31','2018-12-25','2018-12-26', \\\n",
    "#                  '2019-01-01','2019-04-19','2019-04-22','2019-05-06','2019-05-27','2015-08-31','2019-12-25','2019-12-26']"
   ]
  },
  {
   "cell_type": "code",
   "execution_count": null,
   "metadata": {},
   "outputs": [],
   "source": [
    "# start_date = datetime(2010, 1, 1)\n",
    "# end_date = datetime(2019, 12, 31)\n",
    "# working_days = daterange(start_date,end_date)"
   ]
  },
  {
   "cell_type": "code",
   "execution_count": null,
   "metadata": {},
   "outputs": [],
   "source": [
    "# open_days = []\n",
    "# for x in range(len(working_days)):\n",
    "#     year = working_days[x].strftime(\"%Y\")\n",
    "#     month = working_days[x].strftime(\"%m\")\n",
    "#     day = working_days[x].strftime(\"%d\")\n",
    "#     date = year + \"-\" + month + \"-\" + day\n",
    "#     if date not in bank_holidays:\n",
    "#         open_days.append(date)"
   ]
  },
  {
   "cell_type": "markdown",
   "metadata": {},
   "source": [
    "So, open days is a list that the London Stock exchange is open for trading! Now to create a dataframe with these dates as the rows, and the FTSE values at various times!"
   ]
  },
  {
   "cell_type": "code",
   "execution_count": null,
   "metadata": {},
   "outputs": [],
   "source": [
    "# FTSE_data = pd.DataFrame(open_days,columns=[\"Date\"])\n",
    "# FTSE_data.head()"
   ]
  },
  {
   "cell_type": "code",
   "execution_count": null,
   "metadata": {},
   "outputs": [],
   "source": [
    "# df2 = FTSE_data.Date.str.split(\"-\",expand=True,)\n",
    "# df2.columns=['Year','Month','Day']\n",
    "# df2.head()"
   ]
  },
  {
   "cell_type": "code",
   "execution_count": null,
   "metadata": {},
   "outputs": [],
   "source": [
    "# FTSE_data = pd.concat([FTSE_data,df2], axis=1)\n",
    "# FTSE_data.head()"
   ]
  },
  {
   "cell_type": "code",
   "execution_count": null,
   "metadata": {},
   "outputs": [],
   "source": [
    "# FTSE_data[\"5_minutes_after_opening\"] = np.nan\n",
    "# FTSE_data[\"1_hour_after_opening\"] = np.nan\n",
    "# FTSE_data[\"2_hours_after_opening\"] = np.nan\n",
    "# FTSE_data[\"4_hours_after_opening\"] = np.nan\n",
    "# FTSE_data[\"Closing\"] = np.nan\n",
    "# FTSE_data['Year'] = FTSE_data['Year'].astype(int)\n",
    "# FTSE_data['Month'] = FTSE_data['Month'].astype(int)\n",
    "# FTSE_data['Day'] = FTSE_data['Day'].astype(int)\n",
    "# FTSE_data.head()"
   ]
  },
  {
   "cell_type": "code",
   "execution_count": null,
   "metadata": {},
   "outputs": [],
   "source": [
    "# FTSE_data.tail()"
   ]
  },
  {
   "cell_type": "code",
   "execution_count": null,
   "metadata": {},
   "outputs": [],
   "source": [
    "# df.head()"
   ]
  },
  {
   "cell_type": "code",
   "execution_count": null,
   "metadata": {},
   "outputs": [],
   "source": [
    "#horrible bit of code, which I could turn into a function that works for more than just \"5 minutes after opening\"\n",
    "\n",
    "#it takes into account all the discrepancies of daylight savings time, which is different every year,\n",
    "#hence the 10 different years all written out below\n",
    "\n",
    "# for x in range(0,len(FTSE_data)):\n",
    "    \n",
    "#     year = FTSE_data['Year'][x]\n",
    "#     month = FTSE_data['Month'][x]\n",
    "#     day = FTSE_data['Day'][x]\n",
    "    \n",
    "#     if(year == 2010):\n",
    "#         if((month == 3)|(month == 11)):\n",
    "#             if(month == 3):\n",
    "#                 if((day>14) & (day<28)):\n",
    "#                     price = df.loc[(df['Year'] == year) & (df['Month'] == month) & (df['Day'] == day) & (df['Open'] == '03:00:00')]['Close']\n",
    "#             if(month == 11):\n",
    "#                 if(day>0 & day<8):\n",
    "#                     price = df.loc[(df['Year'] == year) & (df['Month'] == month) & (df['Day'] == day) & (df['Open'] == '01:00:00')]['Close']\n",
    "#                     if((day == 3) | (day == 5)):\n",
    "#                         price = df.loc[(df['Year'] == year) & (df['Month'] == month) & (df['Day'] == day) & (df['Open'] == '01:05:00')]['Close']\n",
    "                    \n",
    "#         else:\n",
    "#             price = df.loc[(df['Year'] == year) & (df['Month'] == month) & (df['Day'] == day) & (df['Open'] == '02:00:00')]['Close']\n",
    "    \n",
    "#     if(year == 2011):\n",
    "#         if((month == 3)|(month == 11)|(month== 10)):\n",
    "#             if(month == 3):\n",
    "#                 if((day>13) & (day<27)):\n",
    "#                     price = df.loc[(df['Year'] == year) & (df['Month'] == month) & (df['Day'] == day) & (df['Open'] == '03:00:00')]['Close']\n",
    "#             if(month == 10):\n",
    "#                 if(day > 30):\n",
    "#                     price = df.loc[(df['Year'] == year) & (df['Month'] == month) & (df['Day'] == day) & (df['Open'] == '01:00:00')]['Close']   \n",
    "#             if(month == 11):\n",
    "#                 if(day>0 & day<7):\n",
    "#                     price = df.loc[(df['Year'] == year) & (df['Month'] == month) & (df['Day'] == day) & (df['Open'] == '01:00:00')]['Close']\n",
    "                    \n",
    "#         else:\n",
    "#             price = df.loc[(df['Year'] == year) & (df['Month'] == month) & (df['Day'] == day) & (df['Open'] == '02:00:00')]['Close']  \n",
    "    \n",
    "#     if(year == 2012):\n",
    "#         if((month == 3)|(month == 11)|(month== 10)):\n",
    "#             if(month == 3):\n",
    "#                 if((day>11) & (day<25)):\n",
    "#                     price = df.loc[(df['Year'] == year) & (df['Month'] == month) & (df['Day'] == day) & (df['Open'] == '03:00:00')]['Close']\n",
    "#             if(month == 10):\n",
    "#                 if(day > 28):\n",
    "#                     price = df.loc[(df['Year'] == year) & (df['Month'] == month) & (df['Day'] == day) & (df['Open'] == '01:00:00')]['Close']   \n",
    "#             if(month == 11):\n",
    "#                 if(day>0 & day<5):\n",
    "#                     price = df.loc[(df['Year'] == year) & (df['Month'] == month) & (df['Day'] == day) & (df['Open'] == '01:00:00')]['Close']\n",
    "                    \n",
    "#         else:\n",
    "#             price = df.loc[(df['Year'] == year) & (df['Month'] == month) & (df['Day'] == day) & (df['Open'] == '02:00:00')]['Close']  \n",
    "    \n",
    "#     if(year == 2013):\n",
    "#         if((month == 3)|(month == 11)|(month== 10)):\n",
    "#             if(month == 3):\n",
    "#                 if((day>10) & (day<24)):\n",
    "#                     price = df.loc[(df['Year'] == year) & (df['Month'] == month) & (df['Day'] == day) & (df['Open'] == '03:00:00')]['Close']\n",
    "#             if(month == 10):\n",
    "#                 if(day > 27):\n",
    "#                     price = df.loc[(df['Year'] == year) & (df['Month'] == month) & (df['Day'] == day) & (df['Open'] == '01:00:00')]['Close']   \n",
    "#             if(month == 11):\n",
    "#                 if(day>0 & day<4):\n",
    "#                     price = df.loc[(df['Year'] == year) & (df['Month'] == month) & (df['Day'] == day) & (df['Open'] == '01:00:00')]['Close']\n",
    "                    \n",
    "#         else:\n",
    "#             price = df.loc[(df['Year'] == year) & (df['Month'] == month) & (df['Day'] == day) & (df['Open'] == '02:00:00')]['Close']  \n",
    "    \n",
    "#     if(year == 2014):\n",
    "#         if((month == 3)|(month == 11)|(month== 10)):\n",
    "#             if(month == 3):\n",
    "#                 if((day>9) & (day<23)):\n",
    "#                     price = df.loc[(df['Year'] == year) & (df['Month'] == month) & (df['Day'] == day) & (df['Open'] == '03:00:00')]['Close']\n",
    "#             if(month == 10):\n",
    "#                 if(day > 26):\n",
    "#                     price = df.loc[(df['Year'] == year) & (df['Month'] == month) & (df['Day'] == day) & (df['Open'] == '01:00:00')]['Close']   \n",
    "#             if(month == 11):\n",
    "#                 if(day>0 & day<3):\n",
    "#                     price = df.loc[(df['Year'] == year) & (df['Month'] == month) & (df['Day'] == day) & (df['Open'] == '01:00:00')]['Close']\n",
    "                    \n",
    "#         else:\n",
    "#             price = df.loc[(df['Year'] == year) & (df['Month'] == month) & (df['Day'] == day) & (df['Open'] == '02:00:00')]['Close']  \n",
    "    \n",
    "#     if(year == 2015):\n",
    "#         if((month == 3)|(month == 11)|(month== 10)):\n",
    "#             if(month == 3):\n",
    "#                 if((day>8) & (day<22)):\n",
    "#                     price = df.loc[(df['Year'] == year) & (df['Month'] == month) & (df['Day'] == day) & (df['Open'] == '03:00:00')]['Close']\n",
    "#             if(month == 10):\n",
    "#                 if(day >25):\n",
    "#                     price = df.loc[(df['Year'] == year) & (df['Month'] == month) & (df['Day'] == day) & (df['Open'] == '01:00:00')]['Close']   \n",
    "#             if(month == 11):\n",
    "#                 if(day>0 & day<2):\n",
    "#                     price = df.loc[(df['Year'] == year) & (df['Month'] == month) & (df['Day'] == day) & (df['Open'] == '01:00:00')]['Close']\n",
    "                    \n",
    "#         else:\n",
    "#             price = df.loc[(df['Year'] == year) & (df['Month'] == month) & (df['Day'] == day) & (df['Open'] == '02:00:00')]['Close']  \n",
    "                \n",
    "#     if(year == 2016):\n",
    "#         if((month == 3)|(month == 11)|(month== 10)):\n",
    "#             if(month == 3):\n",
    "#                 if((day>13) & (day<27)):\n",
    "#                     price = df.loc[(df['Year'] == year) & (df['Month'] == month) & (df['Day'] == day) & (df['Open'] == '03:00:00')]['Close']\n",
    "#             if(month == 10):\n",
    "#                 if(day >30):\n",
    "#                     price = df.loc[(df['Year'] == year) & (df['Month'] == month) & (df['Day'] == day) & (df['Open'] == '01:00:00')]['Close']   \n",
    "#             if(month == 11):\n",
    "#                 if(day>0 & day<7):\n",
    "#                     price = df.loc[(df['Year'] == year) & (df['Month'] == month) & (df['Day'] == day) & (df['Open'] == '01:00:00')]['Close']\n",
    "                    \n",
    "#         else:\n",
    "#             price = df.loc[(df['Year'] == year) & (df['Month'] == month) & (df['Day'] == day) & (df['Open'] == '02:00:00')]['Close']  \n",
    "    \n",
    "#     if(year == 2017):\n",
    "#         if((month == 3)|(month == 11)|(month== 10)):\n",
    "#             if(month == 3):\n",
    "#                 if((day>12) & (day<26)):\n",
    "#                     price = df.loc[(df['Year'] == year) & (df['Month'] == month) & (df['Day'] == day) & (df['Open'] == '03:00:00')]['Close']\n",
    "#             if(month == 10):\n",
    "#                 if(day >29):\n",
    "#                     price = df.loc[(df['Year'] == year) & (df['Month'] == month) & (df['Day'] == day) & (df['Open'] == '01:00:00')]['Close']   \n",
    "#             if(month == 11):\n",
    "#                 if(day>0 & day<6):\n",
    "#                     price = df.loc[(df['Year'] == year) & (df['Month'] == month) & (df['Day'] == day) & (df['Open'] == '01:00:00')]['Close']\n",
    "                    \n",
    "#         else:\n",
    "#             price = df.loc[(df['Year'] == year) & (df['Month'] == month) & (df['Day'] == day) & (df['Open'] == '02:00:00')]['Close']  \n",
    "         \n",
    "#     if(year == 2018):\n",
    "#         if((month == 3)|(month == 11)|(month== 10)):\n",
    "#             if(month == 3):\n",
    "#                 if((day>11) & (day<25)):\n",
    "#                     price = df.loc[(df['Year'] == year) & (df['Month'] == month) & (df['Day'] == day) & (df['Open'] == '03:00:00')]['Close']\n",
    "#             if(month == 10):\n",
    "#                 if(day > 28):\n",
    "#                     price = df.loc[(df['Year'] == year) & (df['Month'] == month) & (df['Day'] == day) & (df['Open'] == '01:00:00')]['Close']   \n",
    "#             if(month == 11):\n",
    "#                 if(day>0 & day<5):\n",
    "#                     price = df.loc[(df['Year'] == year) & (df['Month'] == month) & (df['Day'] == day) & (df['Open'] == '01:00:00')]['Close']\n",
    "                    \n",
    "#         else:\n",
    "#             price = df.loc[(df['Year'] == year) & (df['Month'] == month) & (df['Day'] == day) & (df['Open'] == '02:00:00')]['Close']  \n",
    "    \n",
    "#     if(year == 2019):\n",
    "#         if((month == 3)|(month == 11)|(month== 10)):\n",
    "#             if(month == 3):\n",
    "#                 if((day>10) & (day<24)):\n",
    "#                     price = df.loc[(df['Year'] == year) & (df['Month'] == month) & (df['Day'] == day) & (df['Open'] == '03:00:00')]['Close']\n",
    "#             if(month == 10):\n",
    "#                 if(day >27):\n",
    "#                     price = df.loc[(df['Year'] == year) & (df['Month'] == month) & (df['Day'] == day) & (df['Open'] == '01:00:00')]['Close']   \n",
    "#             if(month == 11):\n",
    "#                 if(day>0 & day<4):\n",
    "#                     price = df.loc[(df['Year'] == year) & (df['Month'] == month) & (df['Day'] == day) & (df['Open'] == '01:00:00')]['Close']\n",
    "                    \n",
    "#         else:\n",
    "#             price = df.loc[(df['Year'] == year) & (df['Month'] == month) & (df['Day'] == day) & (df['Open'] == '02:00:00')]['Close']  \n",
    "     \n",
    "#     try:\n",
    "#         FTSE_data.at[x,'5_minutes_after_opening'] = float(price.values[0])\n",
    "#     except:\n",
    "#         FTSE_data.at[x,'5_minutes_after_opening'] = 0"
   ]
  },
  {
   "cell_type": "code",
   "execution_count": null,
   "metadata": {},
   "outputs": [],
   "source": []
  },
  {
   "cell_type": "code",
   "execution_count": null,
   "metadata": {},
   "outputs": [],
   "source": []
  },
  {
   "cell_type": "code",
   "execution_count": null,
   "metadata": {},
   "outputs": [],
   "source": []
  },
  {
   "cell_type": "code",
   "execution_count": null,
   "metadata": {},
   "outputs": [],
   "source": []
  }
 ],
 "metadata": {
  "kernelspec": {
   "display_name": "Python 3",
   "language": "python",
   "name": "python3"
  },
  "language_info": {
   "codemirror_mode": {
    "name": "ipython",
    "version": 3
   },
   "file_extension": ".py",
   "mimetype": "text/x-python",
   "name": "python",
   "nbconvert_exporter": "python",
   "pygments_lexer": "ipython3",
   "version": "3.7.4"
  },
  "toc": {
   "base_numbering": 1,
   "nav_menu": {},
   "number_sections": true,
   "sideBar": true,
   "skip_h1_title": false,
   "title_cell": "Table of Contents",
   "title_sidebar": "Contents",
   "toc_cell": false,
   "toc_position": {
    "height": "calc(100% - 180px)",
    "left": "10px",
    "top": "150px",
    "width": "509px"
   },
   "toc_section_display": true,
   "toc_window_display": true
  }
 },
 "nbformat": 4,
 "nbformat_minor": 2
}
